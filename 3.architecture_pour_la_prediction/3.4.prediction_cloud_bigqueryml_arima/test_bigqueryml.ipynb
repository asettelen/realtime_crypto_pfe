{
 "cells": [
  {
   "cell_type": "code",
   "execution_count": 10,
   "id": "5c6817ea",
   "metadata": {},
   "outputs": [],
   "source": [
    "import os\n",
    "from google.cloud import bigquery"
   ]
  },
  {
   "cell_type": "code",
   "execution_count": 11,
   "id": "533b29cb",
   "metadata": {},
   "outputs": [],
   "source": [
    "query = '''\n",
    "SELECT\n",
    "symbol, tumble, avg(intrp) as intrp\n",
    "FROM\n",
    "  `adept-odyssey-314211.test_crypto_ml.batch_hour_interpo`\n",
    "WHERE\n",
    "symbol = 'ETH'\n",
    "GROUP BY symbol, tumble; \n",
    "'''"
   ]
  },
  {
   "cell_type": "code",
   "execution_count": 12,
   "id": "67d270e1",
   "metadata": {},
   "outputs": [
    {
     "data": {
      "text/html": [
       "<div>\n",
       "<style scoped>\n",
       "    .dataframe tbody tr th:only-of-type {\n",
       "        vertical-align: middle;\n",
       "    }\n",
       "\n",
       "    .dataframe tbody tr th {\n",
       "        vertical-align: top;\n",
       "    }\n",
       "\n",
       "    .dataframe thead th {\n",
       "        text-align: right;\n",
       "    }\n",
       "</style>\n",
       "<table border=\"1\" class=\"dataframe\">\n",
       "  <thead>\n",
       "    <tr style=\"text-align: right;\">\n",
       "      <th></th>\n",
       "      <th>symbol</th>\n",
       "      <th>tumble</th>\n",
       "      <th>intrp</th>\n",
       "    </tr>\n",
       "  </thead>\n",
       "  <tbody>\n",
       "    <tr>\n",
       "      <th>0</th>\n",
       "      <td>ETH</td>\n",
       "      <td>2021-06-09 23:00:00+00:00</td>\n",
       "      <td>2603.720765</td>\n",
       "    </tr>\n",
       "    <tr>\n",
       "      <th>1</th>\n",
       "      <td>ETH</td>\n",
       "      <td>2021-06-09 22:00:00+00:00</td>\n",
       "      <td>2602.790307</td>\n",
       "    </tr>\n",
       "    <tr>\n",
       "      <th>2</th>\n",
       "      <td>ETH</td>\n",
       "      <td>2021-06-09 21:00:00+00:00</td>\n",
       "      <td>2573.542644</td>\n",
       "    </tr>\n",
       "    <tr>\n",
       "      <th>3</th>\n",
       "      <td>ETH</td>\n",
       "      <td>2021-06-09 20:00:00+00:00</td>\n",
       "      <td>2562.886457</td>\n",
       "    </tr>\n",
       "    <tr>\n",
       "      <th>4</th>\n",
       "      <td>ETH</td>\n",
       "      <td>2021-06-09 19:00:00+00:00</td>\n",
       "      <td>2565.964990</td>\n",
       "    </tr>\n",
       "    <tr>\n",
       "      <th>...</th>\n",
       "      <td>...</td>\n",
       "      <td>...</td>\n",
       "      <td>...</td>\n",
       "    </tr>\n",
       "    <tr>\n",
       "      <th>5051</th>\n",
       "      <td>ETH</td>\n",
       "      <td>2020-11-11 12:00:00+00:00</td>\n",
       "      <td>461.257655</td>\n",
       "    </tr>\n",
       "    <tr>\n",
       "      <th>5052</th>\n",
       "      <td>ETH</td>\n",
       "      <td>2020-11-11 11:00:00+00:00</td>\n",
       "      <td>462.476767</td>\n",
       "    </tr>\n",
       "    <tr>\n",
       "      <th>5053</th>\n",
       "      <td>ETH</td>\n",
       "      <td>2020-11-11 10:00:00+00:00</td>\n",
       "      <td>461.482279</td>\n",
       "    </tr>\n",
       "    <tr>\n",
       "      <th>5054</th>\n",
       "      <td>ETH</td>\n",
       "      <td>2020-11-11 09:00:00+00:00</td>\n",
       "      <td>459.585209</td>\n",
       "    </tr>\n",
       "    <tr>\n",
       "      <th>5055</th>\n",
       "      <td>ETH</td>\n",
       "      <td>2020-11-11 08:00:00+00:00</td>\n",
       "      <td>460.482381</td>\n",
       "    </tr>\n",
       "  </tbody>\n",
       "</table>\n",
       "<p>5056 rows × 3 columns</p>\n",
       "</div>"
      ],
      "text/plain": [
       "     symbol                    tumble        intrp\n",
       "0       ETH 2021-06-09 23:00:00+00:00  2603.720765\n",
       "1       ETH 2021-06-09 22:00:00+00:00  2602.790307\n",
       "2       ETH 2021-06-09 21:00:00+00:00  2573.542644\n",
       "3       ETH 2021-06-09 20:00:00+00:00  2562.886457\n",
       "4       ETH 2021-06-09 19:00:00+00:00  2565.964990\n",
       "...     ...                       ...          ...\n",
       "5051    ETH 2020-11-11 12:00:00+00:00   461.257655\n",
       "5052    ETH 2020-11-11 11:00:00+00:00   462.476767\n",
       "5053    ETH 2020-11-11 10:00:00+00:00   461.482279\n",
       "5054    ETH 2020-11-11 09:00:00+00:00   459.585209\n",
       "5055    ETH 2020-11-11 08:00:00+00:00   460.482381\n",
       "\n",
       "[5056 rows x 3 columns]"
      ]
     },
     "execution_count": 12,
     "metadata": {},
     "output_type": "execute_result"
    }
   ],
   "source": [
    "client = bigquery.Client() \n",
    "query_df = client.query(query).result().to_dataframe()\n",
    "query_df"
   ]
  },
  {
   "cell_type": "code",
   "execution_count": null,
   "id": "4b79376d",
   "metadata": {},
   "outputs": [],
   "source": [
    "#bq ls -j -a"
   ]
  }
 ],
 "metadata": {
  "kernelspec": {
   "display_name": "Apache Beam 2.25.0 for Python 3",
   "language": "python",
   "name": "python3"
  },
  "language_info": {
   "codemirror_mode": {
    "name": "ipython",
    "version": 3
   },
   "file_extension": ".py",
   "mimetype": "text/x-python",
   "name": "python",
   "nbconvert_exporter": "python",
   "pygments_lexer": "ipython3",
   "version": "3.7.10"
  }
 },
 "nbformat": 4,
 "nbformat_minor": 5
}
