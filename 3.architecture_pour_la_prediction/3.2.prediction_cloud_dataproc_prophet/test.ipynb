{
 "cells": [
  {
   "cell_type": "code",
   "execution_count": null,
   "id": "6f90b4ca",
   "metadata": {},
   "outputs": [],
   "source": [
    "temp_crypto_batch_verdant_cargo_321713"
   ]
  },
  {
   "cell_type": "code",
   "execution_count": 4,
   "id": "5ef515ed",
   "metadata": {},
   "outputs": [
    {
     "data": {
      "text/plain": [
       "'[temp_crypto_batch_verdant_cargo_321713]'"
      ]
     },
     "execution_count": 4,
     "metadata": {},
     "output_type": "execute_result"
    }
   ],
   "source": [
    "import google.auth\n",
    "'[' + 'temp_crypto_batch_' + google.auth.default()[1].replace('-','_') + ']'"
   ]
  },
  {
   "cell_type": "code",
   "execution_count": null,
   "id": "3ecac4a7",
   "metadata": {},
   "outputs": [],
   "source": [
    "'gs://temp_crypto_batch/prediction/spark_prophet_ml.py'"
   ]
  },
  {
   "cell_type": "code",
   "execution_count": 5,
   "id": "51f233e7",
   "metadata": {},
   "outputs": [
    {
     "data": {
      "text/plain": [
       "'gs://temp_crypto_batch_verdant_cargo_321713/prediction/spark_prophet_ml.py'"
      ]
     },
     "execution_count": 5,
     "metadata": {},
     "output_type": "execute_result"
    }
   ],
   "source": [
    "'gs://' + 'temp_crypto_batch_' + google.auth.default()[1].replace('-','_') + '/prediction/spark_prophet_ml.py'"
   ]
  },
  {
   "cell_type": "code",
   "execution_count": 2,
   "id": "851163c1",
   "metadata": {},
   "outputs": [
    {
     "name": "stdout",
     "output_type": "stream",
     "text": [
      "Collecting google_cloud_dataproc==1.1.1\n",
      "  Downloading google_cloud_dataproc-1.1.1-py2.py3-none-any.whl (290 kB)\n",
      "\u001b[K     |████████████████████████████████| 290 kB 8.5 MB/s eta 0:00:01\n",
      "\u001b[?25hRequirement already satisfied: google-api-core[grpc]<2.0.0dev,>=1.14.0 in /root/apache-beam-2.25.0/lib/python3.7/site-packages (from google_cloud_dataproc==1.1.1) (1.22.0)\n",
      "Requirement already satisfied: pytz in /root/apache-beam-2.25.0/lib/python3.7/site-packages (from google-api-core[grpc]<2.0.0dev,>=1.14.0->google_cloud_dataproc==1.1.1) (2019.3)\n",
      "Requirement already satisfied: requests<3.0.0dev,>=2.18.0 in /root/apache-beam-2.25.0/lib/python3.7/site-packages (from google-api-core[grpc]<2.0.0dev,>=1.14.0->google_cloud_dataproc==1.1.1) (2.25.1)\n",
      "Requirement already satisfied: six>=1.10.0 in /root/apache-beam-2.25.0/lib/python3.7/site-packages (from google-api-core[grpc]<2.0.0dev,>=1.14.0->google_cloud_dataproc==1.1.1) (1.16.0)\n",
      "Requirement already satisfied: google-auth<2.0dev,>=1.19.1 in /root/apache-beam-2.25.0/lib/python3.7/site-packages (from google-api-core[grpc]<2.0.0dev,>=1.14.0->google_cloud_dataproc==1.1.1) (1.31.0)\n",
      "Requirement already satisfied: googleapis-common-protos<2.0dev,>=1.6.0 in /root/apache-beam-2.25.0/lib/python3.7/site-packages (from google-api-core[grpc]<2.0.0dev,>=1.14.0->google_cloud_dataproc==1.1.1) (1.53.0)\n",
      "Requirement already satisfied: protobuf>=3.12.0 in /root/apache-beam-2.25.0/lib/python3.7/site-packages (from google-api-core[grpc]<2.0.0dev,>=1.14.0->google_cloud_dataproc==1.1.1) (3.12.2)\n",
      "Requirement already satisfied: setuptools>=34.0.0 in /root/apache-beam-2.25.0/lib/python3.7/site-packages (from google-api-core[grpc]<2.0.0dev,>=1.14.0->google_cloud_dataproc==1.1.1) (57.0.0)\n",
      "Requirement already satisfied: grpcio<2.0dev,>=1.29.0; extra == \"grpc\" in /root/apache-beam-2.25.0/lib/python3.7/site-packages (from google-api-core[grpc]<2.0.0dev,>=1.14.0->google_cloud_dataproc==1.1.1) (1.38.0)\n",
      "Requirement already satisfied: chardet<5,>=3.0.2 in /root/apache-beam-2.25.0/lib/python3.7/site-packages (from requests<3.0.0dev,>=2.18.0->google-api-core[grpc]<2.0.0dev,>=1.14.0->google_cloud_dataproc==1.1.1) (4.0.0)\n",
      "Requirement already satisfied: idna<3,>=2.5 in /root/apache-beam-2.25.0/lib/python3.7/site-packages (from requests<3.0.0dev,>=2.18.0->google-api-core[grpc]<2.0.0dev,>=1.14.0->google_cloud_dataproc==1.1.1) (2.10)\n",
      "Requirement already satisfied: certifi>=2017.4.17 in /root/apache-beam-2.25.0/lib/python3.7/site-packages (from requests<3.0.0dev,>=2.18.0->google-api-core[grpc]<2.0.0dev,>=1.14.0->google_cloud_dataproc==1.1.1) (2021.5.30)\n",
      "Requirement already satisfied: urllib3<1.27,>=1.21.1 in /root/apache-beam-2.25.0/lib/python3.7/site-packages (from requests<3.0.0dev,>=2.18.0->google-api-core[grpc]<2.0.0dev,>=1.14.0->google_cloud_dataproc==1.1.1) (1.26.5)\n",
      "Requirement already satisfied: cachetools<5.0,>=2.0.0 in /root/apache-beam-2.25.0/lib/python3.7/site-packages (from google-auth<2.0dev,>=1.19.1->google-api-core[grpc]<2.0.0dev,>=1.14.0->google_cloud_dataproc==1.1.1) (4.2.2)\n",
      "Requirement already satisfied: rsa<5,>=3.1.4; python_version >= \"3.6\" in /root/apache-beam-2.25.0/lib/python3.7/site-packages (from google-auth<2.0dev,>=1.19.1->google-api-core[grpc]<2.0.0dev,>=1.14.0->google_cloud_dataproc==1.1.1) (4.7.2)\n",
      "Requirement already satisfied: pyasn1-modules>=0.2.1 in /root/apache-beam-2.25.0/lib/python3.7/site-packages (from google-auth<2.0dev,>=1.19.1->google-api-core[grpc]<2.0.0dev,>=1.14.0->google_cloud_dataproc==1.1.1) (0.2.8)\n",
      "Requirement already satisfied: pyasn1>=0.1.3 in /root/apache-beam-2.25.0/lib/python3.7/site-packages (from rsa<5,>=3.1.4; python_version >= \"3.6\"->google-auth<2.0dev,>=1.19.1->google-api-core[grpc]<2.0.0dev,>=1.14.0->google_cloud_dataproc==1.1.1) (0.4.8)\n",
      "Installing collected packages: google-cloud-dataproc\n",
      "Successfully installed google-cloud-dataproc-1.1.1\n",
      "\u001b[33mWARNING: You are using pip version 20.1.1; however, version 21.1.3 is available.\n",
      "You should consider upgrading via the '/root/apache-beam-2.25.0/bin/python -m pip install --upgrade pip' command.\u001b[0m\n",
      "Note: you may need to restart the kernel to use updated packages.\n"
     ]
    }
   ],
   "source": [
    "pip install google_cloud_dataproc==1.1.1"
   ]
  },
  {
   "cell_type": "code",
   "execution_count": 1,
   "id": "34cded02",
   "metadata": {},
   "outputs": [],
   "source": [
    "from google.cloud import dataproc_v1"
   ]
  },
  {
   "cell_type": "code",
   "execution_count": 2,
   "id": "aa0497f5",
   "metadata": {},
   "outputs": [],
   "source": [
    "from google.cloud.dataproc_v1.gapic.transports import (\n",
    "    job_controller_grpc_transport,\n",
    "    cluster_controller_grpc_transport,\n",
    ")"
   ]
  },
  {
   "cell_type": "code",
   "execution_count": 3,
   "id": "d7f196ef",
   "metadata": {},
   "outputs": [],
   "source": [
    "# parameters\n",
    "project = 'adept-odyssey-314211' # GCP project name\n",
    "cluster_name = 'sparkviacf9' # Dataproc cluster name\n",
    "python_file = 'gs://spark_cf/spark_prophet_ml.py' # where your script is, in a gs bucket usually\n",
    "region = 'us-central1'\n",
    "zone = 'us-central1-a'\n",
    "worker_config = 2 # number of workers"
   ]
  },
  {
   "cell_type": "code",
   "execution_count": 4,
   "id": "d52bfaf1",
   "metadata": {},
   "outputs": [],
   "source": [
    "import google.protobuf"
   ]
  },
  {
   "cell_type": "code",
   "execution_count": 5,
   "id": "28591dcf",
   "metadata": {},
   "outputs": [],
   "source": [
    "duration_message = google.protobuf.duration_pb2.Duration()"
   ]
  },
  {
   "cell_type": "code",
   "execution_count": 6,
   "id": "91ab014e",
   "metadata": {},
   "outputs": [
    {
     "data": {
      "text/plain": [
       "google.protobuf.duration_pb2.Duration"
      ]
     },
     "execution_count": 6,
     "metadata": {},
     "output_type": "execute_result"
    }
   ],
   "source": [
    "type(duration_message)"
   ]
  },
  {
   "cell_type": "code",
   "execution_count": 13,
   "id": "fed74453",
   "metadata": {},
   "outputs": [],
   "source": [
    "duration_message.FromSeconds(360)"
   ]
  },
  {
   "cell_type": "code",
   "execution_count": 14,
   "id": "f7b24760",
   "metadata": {},
   "outputs": [
    {
     "data": {
      "text/plain": [
       "seconds: 360"
      ]
     },
     "execution_count": 14,
     "metadata": {},
     "output_type": "execute_result"
    }
   ],
   "source": [
    "duration_message"
   ]
  },
  {
   "cell_type": "code",
   "execution_count": 10,
   "id": "03dfa953",
   "metadata": {},
   "outputs": [],
   "source": [
    "duration_message.FromNanoseconds(1999999999)\n",
    "td = duration_message.ToTimedelta()\n",
    "assert td.seconds == 1\n",
    "assert td.microseconds == 999999"
   ]
  },
  {
   "cell_type": "code",
   "execution_count": 11,
   "id": "3003983b",
   "metadata": {},
   "outputs": [
    {
     "data": {
      "text/plain": [
       "datetime.timedelta"
      ]
     },
     "execution_count": 11,
     "metadata": {},
     "output_type": "execute_result"
    }
   ],
   "source": [
    "type(td)"
   ]
  },
  {
   "cell_type": "code",
   "execution_count": 7,
   "id": "4f2b8c14",
   "metadata": {},
   "outputs": [
    {
     "ename": "DecodeError",
     "evalue": "Error parsing message",
     "output_type": "error",
     "traceback": [
      "\u001b[0;31m---------------------------------------------------------------------------\u001b[0m",
      "\u001b[0;31mDecodeError\u001b[0m                               Traceback (most recent call last)",
      "\u001b[0;32m<ipython-input-7-d58996be4e3e>\u001b[0m in \u001b[0;36m<module>\u001b[0;34m\u001b[0m\n\u001b[0;32m----> 1\u001b[0;31m \u001b[0mgoogle\u001b[0m\u001b[0;34m.\u001b[0m\u001b[0mprotobuf\u001b[0m\u001b[0;34m.\u001b[0m\u001b[0mduration_pb2\u001b[0m\u001b[0;34m.\u001b[0m\u001b[0mDuration\u001b[0m\u001b[0;34m.\u001b[0m\u001b[0mFromString\u001b[0m\u001b[0;34m(\u001b[0m\u001b[0;34mb\"60s\"\u001b[0m\u001b[0;34m)\u001b[0m\u001b[0;34m\u001b[0m\u001b[0;34m\u001b[0m\u001b[0m\n\u001b[0m",
      "\u001b[0;31mDecodeError\u001b[0m: Error parsing message"
     ]
    }
   ],
   "source": [
    "google.protobuf.duration_pb2.Duration.FromString(b\"60s\")"
   ]
  },
  {
   "cell_type": "code",
   "execution_count": 15,
   "id": "49f9fc6f",
   "metadata": {},
   "outputs": [],
   "source": [
    " # 1. Create a cluster\n",
    "client_transport = (\n",
    "        cluster_controller_grpc_transport.ClusterControllerGrpcTransport(\n",
    "            address='{}-dataproc.googleapis.com:443'.format(region)))\n",
    "\n",
    "dataproc_cluster_client = dataproc_v1.ClusterControllerClient(\n",
    "            client_transport)\n",
    "\n",
    "zone_uri = \\\n",
    "        'https://www.googleapis.com/compute/v1/projects/{}/zones/{}'.format(\n",
    "            project, zone)\n",
    "\n",
    "cluster_data = {\n",
    "        'project_id': project,\n",
    "        'cluster_name': cluster_name,\n",
    "        'config': {\n",
    "            'gce_cluster_config': {\n",
    "                'zone_uri': zone_uri\n",
    "            },\n",
    "            'master_config': {\n",
    "                'num_instances': 1,\n",
    "                'machine_type_uri': 'n1-standard-2', \n",
    "                \"disk_config\": {\n",
    "                                \"boot_disk_size_gb\": 250,\n",
    "                                \"boot_disk_type\": \"pd-standard\"\n",
    "                }\n",
    "            },\n",
    "            'worker_config': {\n",
    "                'num_instances': worker_config,\n",
    "                'machine_type_uri': 'n1-standard-2', \n",
    "                \"disk_config\": {\n",
    "                \"boot_disk_size_gb\": 250,\n",
    "                \"boot_disk_type\": \"pd-standard\"\n",
    "            }},\n",
    "            'software_config': {\n",
    "                'properties': {\"dataproc:pip.packages\": \"pystan==2.19.1.1,fbprophet==0.7.1\"},\n",
    "                'optional_components': [\n",
    "                    'JUPYTER'\n",
    "                ]\n",
    "            },\n",
    "             \"lifecycle_config\": {\n",
    "                  \"idle_delete_ttl\": duration_message\n",
    "            },\n",
    "        }\n",
    "}"
   ]
  },
  {
   "cell_type": "code",
   "execution_count": null,
   "id": "a4980d5d",
   "metadata": {},
   "outputs": [],
   "source": [
    "{\n",
    "  \"projectId\": \"adept-odyssey-314211\",\n",
    "  \"clusterName\": \"sparkviashell\",\n",
    "  \"config\": {\n",
    "    \"configBucket\": \"dataproc-staging-us-central1-694681883320-7yqxqs3c\",\n",
    "    \"tempBucket\": \"dataproc-temp-us-central1-694681883320-hyqttko2\",\n",
    "    \"gceClusterConfig\": {\n",
    "      \"zoneUri\": \"https://www.googleapis.com/compute/v1/projects/adept-odyssey-314211/zones/us-central1-f\",\n",
    "      \"networkUri\": \"https://www.googleapis.com/compute/v1/projects/adept-odyssey-314211/global/networks/default\",\n",
    "      \"serviceAccountScopes\": [\n",
    "        \"https://www.googleapis.com/auth/bigquery\",\n",
    "        \"https://www.googleapis.com/auth/bigtable.admin.table\",\n",
    "        \"https://www.googleapis.com/auth/bigtable.data\",\n",
    "        \"https://www.googleapis.com/auth/cloud.useraccounts.readonly\",\n",
    "        \"https://www.googleapis.com/auth/devstorage.full_control\",\n",
    "        \"https://www.googleapis.com/auth/devstorage.read_write\",\n",
    "        \"https://www.googleapis.com/auth/logging.write\"\n",
    "      ]\n",
    "    },\n",
    "    \"masterConfig\": {\n",
    "      \"numInstances\": 1,\n",
    "      \"instanceNames\": [\n",
    "        \"sparkviashell-m\"\n",
    "      ],\n",
    "      \"imageUri\": \"https://www.googleapis.com/compute/v1/projects/cloud-dataproc/global/images/dataproc-2-0-deb10-20210515-124831-rc01\",\n",
    "      \"machineTypeUri\": \"https://www.googleapis.com/compute/v1/projects/adept-odyssey-314211/zones/us-central1-f/machineTypes/n1-standard-2\",\n",
    "      \"diskConfig\": {\n",
    "        \"bootDiskSizeGb\": 250,\n",
    "        \"bootDiskType\": \"pd-standard\"\n",
    "      },\n",
    "      \"minCpuPlatform\": \"AUTOMATIC\",\n",
    "      \"preemptibility\": \"NON_PREEMPTIBLE\"\n",
    "    },\n",
    "    \"workerConfig\": {\n",
    "      \"numInstances\": 2,\n",
    "      \"instanceNames\": [\n",
    "        \"sparkviashell-w-0\",\n",
    "        \"sparkviashell-w-1\"\n",
    "      ],\n",
    "      \"imageUri\": \"https://www.googleapis.com/compute/v1/projects/cloud-dataproc/global/images/dataproc-2-0-deb10-20210515-124831-rc01\",\n",
    "      \"machineTypeUri\": \"https://www.googleapis.com/compute/v1/projects/adept-odyssey-314211/zones/us-central1-f/machineTypes/n1-standard-2\",\n",
    "      \"diskConfig\": {\n",
    "        \"bootDiskSizeGb\": 250,\n",
    "        \"bootDiskType\": \"pd-standard\"\n",
    "      },\n",
    "      \"minCpuPlatform\": \"AUTOMATIC\",\n",
    "      \"preemptibility\": \"NON_PREEMPTIBLE\"\n",
    "    },\n",
    "    \"softwareConfig\": {\n",
    "      \"imageVersion\": \"2.0.11-debian10\",\n",
    "      \"properties\": {\n",
    "        \"capacity-scheduler:yarn.scheduler.capacity.root.default.ordering-policy\": \"fair\",\n",
    "        \"core:fs.gs.block.size\": \"134217728\",\n",
    "        \"core:fs.gs.metadata.cache.enable\": \"false\",\n",
    "        \"core:hadoop.ssl.enabled.protocols\": \"TLSv1,TLSv1.1,TLSv1.2\",\n",
    "        \"dataproc:pip.packages\": \"pystan==2.19.1.1,fbprophet==0.7.1\",\n",
    "        \"distcp:mapreduce.map.java.opts\": \"-Xmx576m\",\n",
    "        \"distcp:mapreduce.map.memory.mb\": \"768\",\n",
    "        \"distcp:mapreduce.reduce.java.opts\": \"-Xmx576m\",\n",
    "        \"distcp:mapreduce.reduce.memory.mb\": \"768\",\n",
    "        \"hadoop-env:HADOOP_DATANODE_OPTS\": \"-Xmx512m\",\n",
    "        \"hdfs:dfs.datanode.address\": \"0.0.0.0:9866\",\n",
    "        \"hdfs:dfs.datanode.http.address\": \"0.0.0.0:9864\",\n",
    "        \"hdfs:dfs.datanode.https.address\": \"0.0.0.0:9865\",\n",
    "        \"hdfs:dfs.datanode.ipc.address\": \"0.0.0.0:9867\",\n",
    "        \"hdfs:dfs.namenode.handler.count\": \"20\",\n",
    "        \"hdfs:dfs.namenode.http-address\": \"0.0.0.0:9870\",\n",
    "        \"hdfs:dfs.namenode.https-address\": \"0.0.0.0:9871\",\n",
    "        \"hdfs:dfs.namenode.lifeline.rpc-address\": \"sparkviashell-m:8050\",\n",
    "        \"hdfs:dfs.namenode.secondary.http-address\": \"0.0.0.0:9868\",\n",
    "        \"hdfs:dfs.namenode.secondary.https-address\": \"0.0.0.0:9869\",\n",
    "        \"hdfs:dfs.namenode.service.handler.count\": \"10\",\n",
    "        \"hdfs:dfs.namenode.servicerpc-address\": \"sparkviashell-m:8051\",\n",
    "        \"hive:hive.fetch.task.conversion\": \"none\",\n",
    "        \"mapred-env:HADOOP_JOB_HISTORYSERVER_HEAPSIZE\": \"1920\",\n",
    "        \"mapred:mapreduce.job.maps\": \"9\",\n",
    "        \"mapred:mapreduce.job.reduce.slowstart.completedmaps\": \"0.95\",\n",
    "        \"mapred:mapreduce.job.reduces\": \"3\",\n",
    "        \"mapred:mapreduce.jobhistory.recovery.store.class\": \"org.apache.hadoop.mapreduce.v2.hs.HistoryServerLeveldbStateStoreService\",\n",
    "        \"mapred:mapreduce.map.cpu.vcores\": \"1\",\n",
    "        \"mapred:mapreduce.map.java.opts\": \"-Xmx2457m\",\n",
    "        \"mapred:mapreduce.map.memory.mb\": \"3072\",\n",
    "        \"mapred:mapreduce.reduce.cpu.vcores\": \"1\",\n",
    "        \"mapred:mapreduce.reduce.java.opts\": \"-Xmx2457m\",\n",
    "        \"mapred:mapreduce.reduce.memory.mb\": \"3072\",\n",
    "        \"mapred:mapreduce.task.io.sort.mb\": \"256\",\n",
    "        \"mapred:yarn.app.mapreduce.am.command-opts\": \"-Xmx2457m\",\n",
    "        \"mapred:yarn.app.mapreduce.am.resource.cpu-vcores\": \"1\",\n",
    "        \"mapred:yarn.app.mapreduce.am.resource.mb\": \"3072\",\n",
    "        \"spark-env:SPARK_DAEMON_MEMORY\": \"1920m\",\n",
    "        \"spark:spark.driver.maxResultSize\": \"960m\",\n",
    "        \"spark:spark.driver.memory\": \"1920m\",\n",
    "        \"spark:spark.executor.cores\": \"1\",\n",
    "        \"spark:spark.executor.instances\": \"2\",\n",
    "        \"spark:spark.executor.memory\": \"2688m\",\n",
    "        \"spark:spark.executorEnv.OPENBLAS_NUM_THREADS\": \"1\",\n",
    "        \"spark:spark.scheduler.mode\": \"FAIR\",\n",
    "        \"spark:spark.sql.cbo.enabled\": \"true\",\n",
    "        \"spark:spark.ui.port\": \"0\",\n",
    "        \"spark:spark.yarn.am.memory\": \"640m\",\n",
    "        \"yarn-env:YARN_NODEMANAGER_HEAPSIZE\": \"768\",\n",
    "        \"yarn-env:YARN_RESOURCEMANAGER_HEAPSIZE\": \"1920\",\n",
    "        \"yarn-env:YARN_TIMELINESERVER_HEAPSIZE\": \"1920\",\n",
    "        \"yarn:yarn.nodemanager.address\": \"0.0.0.0:8026\",\n",
    "        \"yarn:yarn.nodemanager.resource.cpu-vcores\": \"2\",\n",
    "        \"yarn:yarn.nodemanager.resource.memory-mb\": \"6144\",\n",
    "        \"yarn:yarn.resourcemanager.nodemanager-graceful-decommission-timeout-secs\": \"86400\",\n",
    "        \"yarn:yarn.scheduler.maximum-allocation-mb\": \"6144\",\n",
    "        \"yarn:yarn.scheduler.minimum-allocation-mb\": \"1\"\n",
    "      },\n",
    "      \"optionalComponents\": [\n",
    "        \"JUPYTER\"\n",
    "      ]\n",
    "    },\n",
    "    \"endpointConfig\": {\n",
    "      \"httpPorts\": {\n",
    "        \"YARN ResourceManager\": \"https://ua6qqnu5va4mxg5g6b4fnqmr2q-dot-us-central1.dataproc.googleusercontent.com/yarn/\",\n",
    "        \"MapReduce Job History\": \"https://ua6qqnu5va4mxg5g6b4fnqmr2q-dot-us-central1.dataproc.googleusercontent.com/jobhistory/\",\n",
    "        \"YARN Application Timeline\": \"https://ua6qqnu5va4mxg5g6b4fnqmr2q-dot-us-central1.dataproc.googleusercontent.com/apphistory/\",\n",
    "        \"Spark History Server\": \"https://ua6qqnu5va4mxg5g6b4fnqmr2q-dot-us-central1.dataproc.googleusercontent.com/sparkhistory/\",\n",
    "        \"HDFS NameNode\": \"https://ua6qqnu5va4mxg5g6b4fnqmr2q-dot-us-central1.dataproc.googleusercontent.com/hdfs/dfshealth.html\",\n",
    "        \"Tez\": \"https://ua6qqnu5va4mxg5g6b4fnqmr2q-dot-us-central1.dataproc.googleusercontent.com/apphistory/tez-ui/\",\n",
    "        \"Jupyter\": \"https://ua6qqnu5va4mxg5g6b4fnqmr2q-dot-us-central1.dataproc.googleusercontent.com/jupyter/\",\n",
    "        \"JupyterLab\": \"https://ua6qqnu5va4mxg5g6b4fnqmr2q-dot-us-central1.dataproc.googleusercontent.com/jupyter/lab/\"\n",
    "      },\n",
    "      \"enableHttpPortAccess\": true\n",
    "    }\n",
    "  },\n",
    "  \"status\": {\n",
    "    \"state\": \"RUNNING\",\n",
    "    \"stateStartTime\": \"2021-06-28T16:22:36.906502Z\"\n",
    "  },\n",
    "  \"clusterUuid\": \"d9fbc7cc-94c2-47a7-b35d-32229120bf63\",\n",
    "  \"statusHistory\": [\n",
    "    {\n",
    "      \"state\": \"CREATING\",\n",
    "      \"stateStartTime\": \"2021-06-28T16:17:09.689543Z\"\n",
    "    }\n",
    "  ],\n",
    "  \"labels\": {\n",
    "    \"goog-dataproc-cluster-name\": \"sparkviashell\",\n",
    "    \"goog-dataproc-cluster-uuid\": \"d9fbc7cc-94c2-47a7-b35d-32229120bf63\",\n",
    "    \"goog-dataproc-location\": \"us-central1\"\n",
    "  },\n",
    "  \"metrics\": {\n",
    "    \"hdfsMetrics\": {\n",
    "      \"dfs-capacity-used\": \"57344\",\n",
    "      \"dfs-capacity-present\": \"469821714432\",\n",
    "      \"dfs-nodes-decommissioned\": \"0\",\n",
    "      \"dfs-capacity-remaining\": \"469821657088\",\n",
    "      \"dfs-nodes-decommissioning\": \"0\",\n",
    "      \"dfs-blocks-missing\": \"0\",\n",
    "      \"dfs-blocks-pending-deletion\": \"0\",\n",
    "      \"dfs-capacity-total\": \"528044941312\",\n",
    "      \"dfs-nodes-running\": \"2\",\n",
    "      \"dfs-blocks-under-replication\": \"0\",\n",
    "      \"dfs-blocks-missing-repl-one\": \"0\",\n",
    "      \"dfs-blocks-corrupt\": \"0\"\n",
    "    },\n",
    "    \"yarnMetrics\": {\n",
    "      \"yarn-apps-failed\": \"0\",\n",
    "      \"yarn-containers-allocated\": \"0\",\n",
    "      \"yarn-memory-mb-allocated\": \"0\",\n",
    "      \"yarn-vcores-pending\": \"0\",\n",
    "      \"yarn-apps-killed\": \"0\",\n",
    "      \"yarn-nodes-lost\": \"0\",\n",
    "      \"yarn-nodes-decommissioned\": \"0\",\n",
    "      \"yarn-nodes-unhealthy\": \"0\",\n",
    "      \"yarn-memory-mb-available\": \"12288\",\n",
    "      \"yarn-containers-reserved\": \"0\",\n",
    "      \"yarn-memory-mb-pending\": \"0\",\n",
    "      \"yarn-memory-mb-total\": \"12288\",\n",
    "      \"yarn-nodes-rebooted\": \"0\",\n",
    "      \"yarn-apps-completed\": \"0\",\n",
    "      \"yarn-containers-pending\": \"0\",\n",
    "      \"yarn-vcores-allocated\": \"0\",\n",
    "      \"yarn-apps-running\": \"0\",\n",
    "      \"yarn-vcores-reserved\": \"0\",\n",
    "      \"yarn-memory-mb-reserved\": \"0\",\n",
    "      \"yarn-vcores-total\": \"4\",\n",
    "      \"yarn-vcores-available\": \"4\",\n",
    "      \"yarn-apps-submitted\": \"0\",\n",
    "      \"yarn-nodes-active\": \"2\",\n",
    "      \"yarn-apps-pending\": \"0\"\n",
    "    }\n",
    "  }\n",
    "}"
   ]
  },
  {
   "cell_type": "code",
   "execution_count": 16,
   "id": "2ed53a73",
   "metadata": {},
   "outputs": [
    {
     "data": {
      "text/plain": [
       "{'project_id': 'adept-odyssey-314211',\n",
       " 'cluster_name': 'sparkviacf9',\n",
       " 'config': {'gce_cluster_config': {'zone_uri': 'https://www.googleapis.com/compute/v1/projects/adept-odyssey-314211/zones/us-central1-a'},\n",
       "  'master_config': {'num_instances': 1,\n",
       "   'machine_type_uri': 'n1-standard-2',\n",
       "   'disk_config': {'boot_disk_size_gb': 250, 'boot_disk_type': 'pd-standard'}},\n",
       "  'worker_config': {'num_instances': 2,\n",
       "   'machine_type_uri': 'n1-standard-2',\n",
       "   'disk_config': {'boot_disk_size_gb': 250, 'boot_disk_type': 'pd-standard'}},\n",
       "  'software_config': {'properties': {'dataproc:pip.packages': 'pystan==2.19.1.1,fbprophet==0.7.1'},\n",
       "   'optional_components': ['JUPYTER']},\n",
       "  'lifecycle_config': {'idle_delete_ttl': seconds: 360}}}"
      ]
     },
     "execution_count": 16,
     "metadata": {},
     "output_type": "execute_result"
    }
   ],
   "source": [
    "cluster_data"
   ]
  },
  {
   "cell_type": "code",
   "execution_count": 17,
   "id": "94ffcb1d",
   "metadata": {},
   "outputs": [],
   "source": [
    "cluster = dataproc_cluster_client.create_cluster(project_id=project, region=region, cluster=cluster_data)"
   ]
  },
  {
   "cell_type": "code",
   "execution_count": null,
   "id": "bc57d358",
   "metadata": {},
   "outputs": [],
   "source": []
  },
  {
   "cell_type": "code",
   "execution_count": null,
   "id": "4ad08a6b",
   "metadata": {},
   "outputs": [],
   "source": []
  },
  {
   "cell_type": "code",
   "execution_count": null,
   "id": "e77d218a",
   "metadata": {},
   "outputs": [],
   "source": []
  },
  {
   "cell_type": "markdown",
   "id": "b0a9a23c",
   "metadata": {},
   "source": [
    "dataproc beta2"
   ]
  },
  {
   "cell_type": "code",
   "execution_count": 9,
   "id": "af2031e2",
   "metadata": {},
   "outputs": [],
   "source": [
    "from google.cloud import dataproc_v1beta2"
   ]
  },
  {
   "cell_type": "code",
   "execution_count": 10,
   "id": "ae393621",
   "metadata": {},
   "outputs": [],
   "source": [
    "from google.cloud.dataproc_v1beta2.gapic.transports import (\n",
    "    job_controller_grpc_transport,\n",
    "    cluster_controller_grpc_transport,\n",
    ")"
   ]
  },
  {
   "cell_type": "code",
   "execution_count": 11,
   "id": "993c3e9b",
   "metadata": {},
   "outputs": [],
   "source": [
    "# parameters\n",
    "project = 'adept-odyssey-314211' # GCP project name\n",
    "cluster_name = 'sparkviacf' # Dataproc cluster name\n",
    "python_file = 'gs://spark_cf/spark_prophet_ml.py' # where your script is, in a gs bucket usually\n",
    "region = 'us-central1'\n",
    "zone = 'us-central1-a'\n",
    "worker_config = 2 # number of workers"
   ]
  },
  {
   "cell_type": "code",
   "execution_count": 17,
   "id": "9bc91d38",
   "metadata": {},
   "outputs": [
    {
     "name": "stdout",
     "output_type": "stream",
     "text": [
      "Collecting protobuf\n",
      "  Downloading protobuf-3.17.3-cp37-cp37m-manylinux_2_5_x86_64.manylinux1_x86_64.whl (1.0 MB)\n",
      "\u001b[K     |████████████████████████████████| 1.0 MB 8.0 MB/s eta 0:00:01\n",
      "\u001b[?25hRequirement already satisfied, skipping upgrade: six>=1.9 in /root/apache-beam-2.25.0/lib/python3.7/site-packages (from protobuf) (1.16.0)\n",
      "Installing collected packages: protobuf\n",
      "  Attempting uninstall: protobuf\n",
      "    Found existing installation: protobuf 3.11.3\n",
      "    Uninstalling protobuf-3.11.3:\n",
      "      Successfully uninstalled protobuf-3.11.3\n",
      "Successfully installed protobuf-3.17.3\n",
      "\u001b[33mWARNING: You are using pip version 20.1.1; however, version 21.1.3 is available.\n",
      "You should consider upgrading via the '/root/apache-beam-2.25.0/bin/python -m pip install --upgrade pip' command.\u001b[0m\n",
      "Note: you may need to restart the kernel to use updated packages.\n"
     ]
    }
   ],
   "source": [
    "pip install protobuf -U"
   ]
  },
  {
   "cell_type": "code",
   "execution_count": 12,
   "id": "47965c9a",
   "metadata": {},
   "outputs": [],
   "source": [
    "import datetime"
   ]
  },
  {
   "cell_type": "code",
   "execution_count": 26,
   "id": "5db07e16",
   "metadata": {},
   "outputs": [],
   "source": [
    "#from datetime import datetime, timedelta"
   ]
  },
  {
   "cell_type": "code",
   "execution_count": 5,
   "id": "1f4d698a",
   "metadata": {},
   "outputs": [],
   "source": [
    "td = datetime.timedelta(minutes=10)"
   ]
  },
  {
   "cell_type": "code",
   "execution_count": 6,
   "id": "e2412557",
   "metadata": {},
   "outputs": [],
   "source": [
    "from google.protobuf import duration_pb2"
   ]
  },
  {
   "cell_type": "code",
   "execution_count": 7,
   "id": "03d49616",
   "metadata": {},
   "outputs": [],
   "source": [
    "duration = duration_pb2.Duration()"
   ]
  },
  {
   "cell_type": "code",
   "execution_count": 10,
   "id": "88643d84",
   "metadata": {},
   "outputs": [
    {
     "data": {
      "text/plain": [
       "google.protobuf.duration_pb2.Duration"
      ]
     },
     "execution_count": 10,
     "metadata": {},
     "output_type": "execute_result"
    }
   ],
   "source": [
    "type(duration)"
   ]
  },
  {
   "cell_type": "code",
   "execution_count": null,
   "id": "e0fffa32",
   "metadata": {},
   "outputs": [],
   "source": []
  },
  {
   "cell_type": "code",
   "execution_count": 13,
   "id": "37011e7f",
   "metadata": {},
   "outputs": [],
   "source": [
    "from google.protobuf import duration_pb2"
   ]
  },
  {
   "cell_type": "code",
   "execution_count": 14,
   "id": "88aa1b88",
   "metadata": {},
   "outputs": [],
   "source": [
    "duration = duration_pb2.Duration()"
   ]
  },
  {
   "cell_type": "code",
   "execution_count": 17,
   "id": "1fa5c3b1",
   "metadata": {},
   "outputs": [
    {
     "data": {
      "text/plain": [
       "google.protobuf.duration_pb2.Duration"
      ]
     },
     "execution_count": 17,
     "metadata": {},
     "output_type": "execute_result"
    }
   ],
   "source": [
    "type(duration)"
   ]
  },
  {
   "cell_type": "code",
   "execution_count": 22,
   "id": "a0e3afad",
   "metadata": {},
   "outputs": [],
   "source": [
    "duration.FromJsonString(\"60s\")"
   ]
  },
  {
   "cell_type": "code",
   "execution_count": null,
   "id": "834c7659",
   "metadata": {},
   "outputs": [],
   "source": []
  },
  {
   "cell_type": "code",
   "execution_count": null,
   "id": "ed48acf9",
   "metadata": {},
   "outputs": [],
   "source": []
  },
  {
   "cell_type": "code",
   "execution_count": null,
   "id": "9fdea846",
   "metadata": {},
   "outputs": [],
   "source": []
  },
  {
   "cell_type": "code",
   "execution_count": 26,
   "id": "ef84c555",
   "metadata": {},
   "outputs": [],
   "source": [
    " # 1. Create a cluster\n",
    "client_transport = (\n",
    "        cluster_controller_grpc_transport.ClusterControllerGrpcTransport(\n",
    "            address='{}-dataproc.googleapis.com:443'.format(region)))\n",
    "\n",
    "dataproc_cluster_client = dataproc_v1beta2.ClusterControllerClient(\n",
    "            client_transport)\n",
    "\n",
    "zone_uri = \\\n",
    "        'https://www.googleapis.com/compute/v1/projects/{}/zones/{}'.format(\n",
    "            project, zone)\n",
    "\n",
    "cluster_data = {\n",
    "        'project_id': project,\n",
    "        'cluster_name': cluster_name,\n",
    "        'config': {\n",
    "            'gce_cluster_config': {\n",
    "                'zone_uri': zone_uri\n",
    "            },\n",
    "            'master_config': {\n",
    "                'num_instances': 1,\n",
    "                'machine_type_uri': 'n1-standard-2', \n",
    "                \"disk_config\": {\n",
    "                                \"boot_disk_size_gb\": 250,\n",
    "                                \"boot_disk_type\": \"pd-standard\"\n",
    "                }\n",
    "            },\n",
    "            'worker_config': {\n",
    "                'num_instances': worker_config,\n",
    "                'machine_type_uri': 'n1-standard-2', \n",
    "                \"disk_config\": {\n",
    "                \"boot_disk_size_gb\": 250,\n",
    "                \"boot_disk_type\": \"pd-standard\"\n",
    "            }},\n",
    "            'lifecycle_config': {\n",
    "                  'idle_delete_ttl': \"60s\"\n",
    "            },\n",
    "            'software_config': {\n",
    "                'properties': {\"dataproc:pip.packages\": \"pystan==2.19.1.1,fbprophet==0.7.1\"},\n",
    "                'optional_components': [\n",
    "                    'JUPYTER'\n",
    "                ]\n",
    "            },\n",
    "        }\n",
    "}"
   ]
  },
  {
   "cell_type": "code",
   "execution_count": null,
   "id": "db70c706",
   "metadata": {},
   "outputs": [],
   "source": [
    "cluster_data = {\n",
    "        'projectId': project,\n",
    "        'clusterName': cluster_name,\n",
    "        'config': {\n",
    "            'gceClusterConfig': {\n",
    "                'zoneUri': zone_uri\n",
    "            },\n",
    "            'masterConfig': {\n",
    "                'numInstances': 1,\n",
    "                'machineTypeUri': 'n1-standard-2', \n",
    "                \"diskConfig\": {\n",
    "                                \"bootDiskSizeGb\": 250,\n",
    "                                \"bootDiskType\": \"pd-standard\"\n",
    "                }\n",
    "            },\n",
    "            'workerConfig': {\n",
    "                'numInstances': worker_config,\n",
    "                'machineTypeUri': 'n1-standard-2', \n",
    "                \"diskConfig\": {\n",
    "                \"bootDiskSizeGb\": 250,\n",
    "                \"bootDiskType\": \"pd-standard\"\n",
    "            }},\n",
    "            'softwareConfig': {\n",
    "                'properties': {\"dataproc:pip.packages\": \"pystan==2.19.1.1,fbprophet==0.7.1\"},\n",
    "                'optionalComponents': [\n",
    "                    'JUPYTER'\n",
    "                ]\n",
    "            },\n",
    "            \"lifecycle_config\": {\n",
    "                  \"idleDeleteTtl\": \"60s\"\n",
    "        }\n",
    "        }\n",
    "}"
   ]
  },
  {
   "cell_type": "code",
   "execution_count": 24,
   "id": "999ce397",
   "metadata": {},
   "outputs": [
    {
     "data": {
      "text/plain": [
       "{'project_id': 'adept-odyssey-314211',\n",
       " 'cluster_name': 'sparkviacf',\n",
       " 'config': {'gce_cluster_config': {'zone_uri': 'https://www.googleapis.com/compute/v1/projects/adept-odyssey-314211/zones/us-central1-a'},\n",
       "  'master_config': {'num_instances': 1,\n",
       "   'machine_type_uri': 'n1-standard-2',\n",
       "   'disk_config': {'boot_disk_size_gb': 250, 'boot_disk_type': 'pd-standard'}},\n",
       "  'worker_config': {'num_instances': 2,\n",
       "   'machine_type_uri': 'n1-standard-2',\n",
       "   'disk_config': {'boot_disk_size_gb': 250, 'boot_disk_type': 'pd-standard'}},\n",
       "  'lifecycle_config': {'idle_delete_ttl': None},\n",
       "  'software_config': {'properties': {'dataproc:pip.packages': 'pystan==2.19.1.1,fbprophet==0.7.1'},\n",
       "   'optional_components': ['JUPYTER']}}}"
      ]
     },
     "execution_count": 24,
     "metadata": {},
     "output_type": "execute_result"
    }
   ],
   "source": [
    "cluster_data"
   ]
  },
  {
   "cell_type": "code",
   "execution_count": 27,
   "id": "e76a65d6",
   "metadata": {},
   "outputs": [
    {
     "ename": "TypeError",
     "evalue": "Parameter to MergeFrom() must be instance of same class: expected google.protobuf.Duration got str.",
     "output_type": "error",
     "traceback": [
      "\u001b[0;31m---------------------------------------------------------------------------\u001b[0m",
      "\u001b[0;31mTypeError\u001b[0m                                 Traceback (most recent call last)",
      "\u001b[0;32m<ipython-input-27-6826e6207613>\u001b[0m in \u001b[0;36m<module>\u001b[0;34m\u001b[0m\n\u001b[0;32m----> 1\u001b[0;31m \u001b[0mcluster\u001b[0m \u001b[0;34m=\u001b[0m \u001b[0mdataproc_cluster_client\u001b[0m\u001b[0;34m.\u001b[0m\u001b[0mcreate_cluster\u001b[0m\u001b[0;34m(\u001b[0m\u001b[0mproject_id\u001b[0m\u001b[0;34m=\u001b[0m\u001b[0mproject\u001b[0m\u001b[0;34m,\u001b[0m \u001b[0mregion\u001b[0m\u001b[0;34m=\u001b[0m\u001b[0mregion\u001b[0m\u001b[0;34m,\u001b[0m \u001b[0mcluster\u001b[0m\u001b[0;34m=\u001b[0m\u001b[0mcluster_data\u001b[0m\u001b[0;34m)\u001b[0m\u001b[0;34m\u001b[0m\u001b[0;34m\u001b[0m\u001b[0m\n\u001b[0m",
      "\u001b[0;32m~/apache-beam-2.25.0/lib/python3.7/site-packages/google/cloud/dataproc_v1beta2/gapic/cluster_controller_client.py\u001b[0m in \u001b[0;36mcreate_cluster\u001b[0;34m(self, project_id, region, cluster, request_id, retry, timeout, metadata)\u001b[0m\n\u001b[1;32m    292\u001b[0m             \u001b[0mregion\u001b[0m\u001b[0;34m=\u001b[0m\u001b[0mregion\u001b[0m\u001b[0;34m,\u001b[0m\u001b[0;34m\u001b[0m\u001b[0;34m\u001b[0m\u001b[0m\n\u001b[1;32m    293\u001b[0m             \u001b[0mcluster\u001b[0m\u001b[0;34m=\u001b[0m\u001b[0mcluster\u001b[0m\u001b[0;34m,\u001b[0m\u001b[0;34m\u001b[0m\u001b[0;34m\u001b[0m\u001b[0m\n\u001b[0;32m--> 294\u001b[0;31m             \u001b[0mrequest_id\u001b[0m\u001b[0;34m=\u001b[0m\u001b[0mrequest_id\u001b[0m\u001b[0;34m,\u001b[0m\u001b[0;34m\u001b[0m\u001b[0;34m\u001b[0m\u001b[0m\n\u001b[0m\u001b[1;32m    295\u001b[0m         )\n\u001b[1;32m    296\u001b[0m         operation = self._inner_api_calls[\"create_cluster\"](\n",
      "\u001b[0;31mTypeError\u001b[0m: Parameter to MergeFrom() must be instance of same class: expected google.protobuf.Duration got str."
     ]
    }
   ],
   "source": [
    "cluster = dataproc_cluster_client.create_cluster(project_id=project, region=region, cluster=cluster_data)"
   ]
  }
 ],
 "metadata": {
  "kernelspec": {
   "display_name": "Python 3 (ipykernel)",
   "language": "python",
   "name": "python3"
  },
  "language_info": {
   "codemirror_mode": {
    "name": "ipython",
    "version": 3
   },
   "file_extension": ".py",
   "mimetype": "text/x-python",
   "name": "python",
   "nbconvert_exporter": "python",
   "pygments_lexer": "ipython3",
   "version": "3.7.10"
  }
 },
 "nbformat": 4,
 "nbformat_minor": 5
}
