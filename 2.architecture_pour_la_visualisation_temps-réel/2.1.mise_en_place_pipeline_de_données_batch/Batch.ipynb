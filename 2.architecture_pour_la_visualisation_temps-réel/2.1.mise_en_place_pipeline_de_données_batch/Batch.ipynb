{
 "cells": [
  {
   "cell_type": "markdown",
   "id": "23639dcb",
   "metadata": {},
   "source": [
    "Ici se trouve le code correspondant à la partie batch du schéma d'architecture du cas d'usage d'implémentation de d'analyse data de cryptomonnaie. \n",
    "\n",
    "Il s'agit de récupérer des données, sur une plage de temps donnée, depuis une source (ici bigquery) puis de lancer une pipeline de données (locale pour les tests avec interactiverunner() puis sur le cloud grâce à dataflowrunner()). \n",
    "\n",
    "Le dataflow exporte toutes les données traitées dans une table de BigQuery. \n",
    "Ces données sont prêtes à être visualisé depuis un outil de visualisation de données au choix (DataStudio, Grafana, etc)."
   ]
  },
  {
   "cell_type": "code",
   "execution_count": 7,
   "id": "748adddf",
   "metadata": {},
   "outputs": [],
   "source": [
    "import logging\n",
    "import re\n",
    "import json\n",
    "import time\n",
    "import traceback\n",
    "#from utils.utils import *\n",
    "#from utils.solutions import solutions\n",
    "import google.auth\n",
    "\n",
    "from IPython.core.display import display, HTML\n",
    "\n",
    "import apache_beam as beam\n",
    "from apache_beam import FlatMap, Map, ParDo, Flatten, Filter\n",
    "from apache_beam import Values, CombineGlobally, CombinePerKey\n",
    "from apache_beam import pvalue, window, WindowInto\n",
    "from apache_beam.options import pipeline_options\n",
    "from apache_beam.options.pipeline_options import PipelineOptions\n",
    "from apache_beam.transforms.combiners import Top, Mean, Count\n",
    "from apache_beam.io.textio import ReadFromText, WriteToText\n",
    "from apache_beam.io.gcp.pubsub import ReadFromPubSub\n",
    "from apache_beam.io.gcp.bigquery import BigQueryDisposition, WriteToBigQuery\n",
    "\n",
    "from apache_beam.runners import DataflowRunner\n",
    "from apache_beam.runners.interactive.interactive_runner import InteractiveRunner\n",
    "import apache_beam.runners.interactive.interactive_beam as ib\n",
    "\n",
    "from apache_beam.testing.util import assert_that, is_empty, equal_to\n",
    "\n",
    "from apache_beam.options.pipeline_options import PipelineOptions\n",
    "from apache_beam.options.pipeline_options import SetupOptions\n",
    "from apache_beam.options.pipeline_options import GoogleCloudOptions\n",
    "from apache_beam.options.pipeline_options import StandardOptions"
   ]
  },
  {
   "cell_type": "code",
   "execution_count": 8,
   "id": "56d3a737",
   "metadata": {},
   "outputs": [
    {
     "name": "stdout",
     "output_type": "stream",
     "text": [
      "The google.cloud.bigquery extension is already loaded. To reload it, use:\n",
      "  %reload_ext google.cloud.bigquery\n"
     ]
    }
   ],
   "source": [
    "from google.cloud import bigquery\n",
    "%load_ext google.cloud.bigquery"
   ]
  },
  {
   "cell_type": "code",
   "execution_count": 48,
   "id": "fbc94b8f",
   "metadata": {},
   "outputs": [
    {
     "data": {
      "text/plain": [
       "'crypto-beta-test'"
      ]
     },
     "execution_count": 48,
     "metadata": {},
     "output_type": "execute_result"
    }
   ],
   "source": [
    "project = google.auth.default()[1]\n",
    "project"
   ]
  },
  {
   "cell_type": "markdown",
   "id": "6d808fe7",
   "metadata": {},
   "source": [
    "Créer la dataset où sera stocké la table résultant de l'exécution de notre pipeline batch"
   ]
  },
  {
   "cell_type": "code",
   "execution_count": 49,
   "id": "c9577bdf",
   "metadata": {},
   "outputs": [
    {
     "name": "stdout",
     "output_type": "stream",
     "text": [
      "BigQuery error in mk operation: Dataset 'crypto-beta-test:temp_crypto_batch'\n",
      "already exists.\n"
     ]
    }
   ],
   "source": [
    "!bq mk --location US --dataset temp_crypto_batch"
   ]
  },
  {
   "cell_type": "markdown",
   "id": "eb1f971f",
   "metadata": {},
   "source": [
    "Créer le bucket qui servira de stockage pendant l'execution de la pipeline. Reminder : le nom de ce bucket doit être unique."
   ]
  },
  {
   "cell_type": "code",
   "execution_count": 21,
   "id": "f9fc10aa",
   "metadata": {},
   "outputs": [
    {
     "name": "stdout",
     "output_type": "stream",
     "text": [
      "gs://temp_crypto_batch_bucket-beta\n"
     ]
    },
    {
     "name": "stderr",
     "output_type": "stream",
     "text": [
      "Creating gs://temp_crypto_batch_bucket-beta/...\n",
      "ServiceException: 409 A Cloud Storage bucket named 'temp_crypto_batch_bucket-beta' already exists. Try another name. Bucket names must be globally unique across all Google Cloud projects, including those outside of your organization.\n"
     ]
    },
    {
     "ename": "CalledProcessError",
     "evalue": "Command 'b'\\nproject=$(gcloud config get-value project 2> /dev/null)\\necho gs://temp_crypto_batch_${project//crypto-beta-test/bucket-beta}\\ngsutil mb gs://temp_crypto_batch_${project//crypto-beta-test/bucket-beta}\\n'' returned non-zero exit status 1.",
     "output_type": "error",
     "traceback": [
      "\u001b[0;31m---------------------------------------------------------------------------\u001b[0m",
      "\u001b[0;31mCalledProcessError\u001b[0m                        Traceback (most recent call last)",
      "\u001b[0;32m<ipython-input-21-27f5f2f0c9e9>\u001b[0m in \u001b[0;36m<module>\u001b[0;34m\u001b[0m\n\u001b[0;32m----> 1\u001b[0;31m \u001b[0mget_ipython\u001b[0m\u001b[0;34m(\u001b[0m\u001b[0;34m)\u001b[0m\u001b[0;34m.\u001b[0m\u001b[0mrun_cell_magic\u001b[0m\u001b[0;34m(\u001b[0m\u001b[0;34m'bash'\u001b[0m\u001b[0;34m,\u001b[0m \u001b[0;34m''\u001b[0m\u001b[0;34m,\u001b[0m \u001b[0;34m'\\nproject=$(gcloud config get-value project 2> /dev/null)\\necho gs://temp_crypto_batch_${project//crypto-beta-test/bucket-beta}\\ngsutil mb gs://temp_crypto_batch_${project//crypto-beta-test/bucket-beta}\\n'\u001b[0m\u001b[0;34m)\u001b[0m\u001b[0;34m\u001b[0m\u001b[0;34m\u001b[0m\u001b[0m\n\u001b[0m",
      "\u001b[0;32m~/apache-beam-2.25.0/lib/python3.7/site-packages/IPython/core/interactiveshell.py\u001b[0m in \u001b[0;36mrun_cell_magic\u001b[0;34m(self, magic_name, line, cell)\u001b[0m\n\u001b[1;32m   2401\u001b[0m             \u001b[0;32mwith\u001b[0m \u001b[0mself\u001b[0m\u001b[0;34m.\u001b[0m\u001b[0mbuiltin_trap\u001b[0m\u001b[0;34m:\u001b[0m\u001b[0;34m\u001b[0m\u001b[0;34m\u001b[0m\u001b[0m\n\u001b[1;32m   2402\u001b[0m                 \u001b[0margs\u001b[0m \u001b[0;34m=\u001b[0m \u001b[0;34m(\u001b[0m\u001b[0mmagic_arg_s\u001b[0m\u001b[0;34m,\u001b[0m \u001b[0mcell\u001b[0m\u001b[0;34m)\u001b[0m\u001b[0;34m\u001b[0m\u001b[0;34m\u001b[0m\u001b[0m\n\u001b[0;32m-> 2403\u001b[0;31m                 \u001b[0mresult\u001b[0m \u001b[0;34m=\u001b[0m \u001b[0mfn\u001b[0m\u001b[0;34m(\u001b[0m\u001b[0;34m*\u001b[0m\u001b[0margs\u001b[0m\u001b[0;34m,\u001b[0m \u001b[0;34m**\u001b[0m\u001b[0mkwargs\u001b[0m\u001b[0;34m)\u001b[0m\u001b[0;34m\u001b[0m\u001b[0;34m\u001b[0m\u001b[0m\n\u001b[0m\u001b[1;32m   2404\u001b[0m             \u001b[0;32mreturn\u001b[0m \u001b[0mresult\u001b[0m\u001b[0;34m\u001b[0m\u001b[0;34m\u001b[0m\u001b[0m\n\u001b[1;32m   2405\u001b[0m \u001b[0;34m\u001b[0m\u001b[0m\n",
      "\u001b[0;32m~/apache-beam-2.25.0/lib/python3.7/site-packages/IPython/core/magics/script.py\u001b[0m in \u001b[0;36mnamed_script_magic\u001b[0;34m(line, cell)\u001b[0m\n\u001b[1;32m    140\u001b[0m             \u001b[0;32melse\u001b[0m\u001b[0;34m:\u001b[0m\u001b[0;34m\u001b[0m\u001b[0;34m\u001b[0m\u001b[0m\n\u001b[1;32m    141\u001b[0m                 \u001b[0mline\u001b[0m \u001b[0;34m=\u001b[0m \u001b[0mscript\u001b[0m\u001b[0;34m\u001b[0m\u001b[0;34m\u001b[0m\u001b[0m\n\u001b[0;32m--> 142\u001b[0;31m             \u001b[0;32mreturn\u001b[0m \u001b[0mself\u001b[0m\u001b[0;34m.\u001b[0m\u001b[0mshebang\u001b[0m\u001b[0;34m(\u001b[0m\u001b[0mline\u001b[0m\u001b[0;34m,\u001b[0m \u001b[0mcell\u001b[0m\u001b[0;34m)\u001b[0m\u001b[0;34m\u001b[0m\u001b[0;34m\u001b[0m\u001b[0m\n\u001b[0m\u001b[1;32m    143\u001b[0m \u001b[0;34m\u001b[0m\u001b[0m\n\u001b[1;32m    144\u001b[0m         \u001b[0;31m# write a basic docstring:\u001b[0m\u001b[0;34m\u001b[0m\u001b[0;34m\u001b[0m\u001b[0;34m\u001b[0m\u001b[0m\n",
      "\u001b[0;32m~/apache-beam-2.25.0/lib/python3.7/site-packages/decorator.py\u001b[0m in \u001b[0;36mfun\u001b[0;34m(*args, **kw)\u001b[0m\n\u001b[1;32m    230\u001b[0m             \u001b[0;32mif\u001b[0m \u001b[0;32mnot\u001b[0m \u001b[0mkwsyntax\u001b[0m\u001b[0;34m:\u001b[0m\u001b[0;34m\u001b[0m\u001b[0;34m\u001b[0m\u001b[0m\n\u001b[1;32m    231\u001b[0m                 \u001b[0margs\u001b[0m\u001b[0;34m,\u001b[0m \u001b[0mkw\u001b[0m \u001b[0;34m=\u001b[0m \u001b[0mfix\u001b[0m\u001b[0;34m(\u001b[0m\u001b[0margs\u001b[0m\u001b[0;34m,\u001b[0m \u001b[0mkw\u001b[0m\u001b[0;34m,\u001b[0m \u001b[0msig\u001b[0m\u001b[0;34m)\u001b[0m\u001b[0;34m\u001b[0m\u001b[0;34m\u001b[0m\u001b[0m\n\u001b[0;32m--> 232\u001b[0;31m             \u001b[0;32mreturn\u001b[0m \u001b[0mcaller\u001b[0m\u001b[0;34m(\u001b[0m\u001b[0mfunc\u001b[0m\u001b[0;34m,\u001b[0m \u001b[0;34m*\u001b[0m\u001b[0;34m(\u001b[0m\u001b[0mextras\u001b[0m \u001b[0;34m+\u001b[0m \u001b[0margs\u001b[0m\u001b[0;34m)\u001b[0m\u001b[0;34m,\u001b[0m \u001b[0;34m**\u001b[0m\u001b[0mkw\u001b[0m\u001b[0;34m)\u001b[0m\u001b[0;34m\u001b[0m\u001b[0;34m\u001b[0m\u001b[0m\n\u001b[0m\u001b[1;32m    233\u001b[0m     \u001b[0mfun\u001b[0m\u001b[0;34m.\u001b[0m\u001b[0m__name__\u001b[0m \u001b[0;34m=\u001b[0m \u001b[0mfunc\u001b[0m\u001b[0;34m.\u001b[0m\u001b[0m__name__\u001b[0m\u001b[0;34m\u001b[0m\u001b[0;34m\u001b[0m\u001b[0m\n\u001b[1;32m    234\u001b[0m     \u001b[0mfun\u001b[0m\u001b[0;34m.\u001b[0m\u001b[0m__doc__\u001b[0m \u001b[0;34m=\u001b[0m \u001b[0mfunc\u001b[0m\u001b[0;34m.\u001b[0m\u001b[0m__doc__\u001b[0m\u001b[0;34m\u001b[0m\u001b[0;34m\u001b[0m\u001b[0m\n",
      "\u001b[0;32m~/apache-beam-2.25.0/lib/python3.7/site-packages/IPython/core/magic.py\u001b[0m in \u001b[0;36m<lambda>\u001b[0;34m(f, *a, **k)\u001b[0m\n\u001b[1;32m    185\u001b[0m     \u001b[0;31m# but it's overkill for just that one bit of state.\u001b[0m\u001b[0;34m\u001b[0m\u001b[0;34m\u001b[0m\u001b[0;34m\u001b[0m\u001b[0m\n\u001b[1;32m    186\u001b[0m     \u001b[0;32mdef\u001b[0m \u001b[0mmagic_deco\u001b[0m\u001b[0;34m(\u001b[0m\u001b[0marg\u001b[0m\u001b[0;34m)\u001b[0m\u001b[0;34m:\u001b[0m\u001b[0;34m\u001b[0m\u001b[0;34m\u001b[0m\u001b[0m\n\u001b[0;32m--> 187\u001b[0;31m         \u001b[0mcall\u001b[0m \u001b[0;34m=\u001b[0m \u001b[0;32mlambda\u001b[0m \u001b[0mf\u001b[0m\u001b[0;34m,\u001b[0m \u001b[0;34m*\u001b[0m\u001b[0ma\u001b[0m\u001b[0;34m,\u001b[0m \u001b[0;34m**\u001b[0m\u001b[0mk\u001b[0m\u001b[0;34m:\u001b[0m \u001b[0mf\u001b[0m\u001b[0;34m(\u001b[0m\u001b[0;34m*\u001b[0m\u001b[0ma\u001b[0m\u001b[0;34m,\u001b[0m \u001b[0;34m**\u001b[0m\u001b[0mk\u001b[0m\u001b[0;34m)\u001b[0m\u001b[0;34m\u001b[0m\u001b[0;34m\u001b[0m\u001b[0m\n\u001b[0m\u001b[1;32m    188\u001b[0m \u001b[0;34m\u001b[0m\u001b[0m\n\u001b[1;32m    189\u001b[0m         \u001b[0;32mif\u001b[0m \u001b[0mcallable\u001b[0m\u001b[0;34m(\u001b[0m\u001b[0marg\u001b[0m\u001b[0;34m)\u001b[0m\u001b[0;34m:\u001b[0m\u001b[0;34m\u001b[0m\u001b[0;34m\u001b[0m\u001b[0m\n",
      "\u001b[0;32m~/apache-beam-2.25.0/lib/python3.7/site-packages/IPython/core/magics/script.py\u001b[0m in \u001b[0;36mshebang\u001b[0;34m(self, line, cell)\u001b[0m\n\u001b[1;32m    243\u001b[0m             \u001b[0msys\u001b[0m\u001b[0;34m.\u001b[0m\u001b[0mstderr\u001b[0m\u001b[0;34m.\u001b[0m\u001b[0mflush\u001b[0m\u001b[0;34m(\u001b[0m\u001b[0;34m)\u001b[0m\u001b[0;34m\u001b[0m\u001b[0;34m\u001b[0m\u001b[0m\n\u001b[1;32m    244\u001b[0m         \u001b[0;32mif\u001b[0m \u001b[0margs\u001b[0m\u001b[0;34m.\u001b[0m\u001b[0mraise_error\u001b[0m \u001b[0;32mand\u001b[0m \u001b[0mp\u001b[0m\u001b[0;34m.\u001b[0m\u001b[0mreturncode\u001b[0m\u001b[0;34m!=\u001b[0m\u001b[0;36m0\u001b[0m\u001b[0;34m:\u001b[0m\u001b[0;34m\u001b[0m\u001b[0;34m\u001b[0m\u001b[0m\n\u001b[0;32m--> 245\u001b[0;31m             \u001b[0;32mraise\u001b[0m \u001b[0mCalledProcessError\u001b[0m\u001b[0;34m(\u001b[0m\u001b[0mp\u001b[0m\u001b[0;34m.\u001b[0m\u001b[0mreturncode\u001b[0m\u001b[0;34m,\u001b[0m \u001b[0mcell\u001b[0m\u001b[0;34m,\u001b[0m \u001b[0moutput\u001b[0m\u001b[0;34m=\u001b[0m\u001b[0mout\u001b[0m\u001b[0;34m,\u001b[0m \u001b[0mstderr\u001b[0m\u001b[0;34m=\u001b[0m\u001b[0merr\u001b[0m\u001b[0;34m)\u001b[0m\u001b[0;34m\u001b[0m\u001b[0;34m\u001b[0m\u001b[0m\n\u001b[0m\u001b[1;32m    246\u001b[0m \u001b[0;34m\u001b[0m\u001b[0m\n\u001b[1;32m    247\u001b[0m     \u001b[0;32mdef\u001b[0m \u001b[0m_run_script\u001b[0m\u001b[0;34m(\u001b[0m\u001b[0mself\u001b[0m\u001b[0;34m,\u001b[0m \u001b[0mp\u001b[0m\u001b[0;34m,\u001b[0m \u001b[0mcell\u001b[0m\u001b[0;34m,\u001b[0m \u001b[0mto_close\u001b[0m\u001b[0;34m)\u001b[0m\u001b[0;34m:\u001b[0m\u001b[0;34m\u001b[0m\u001b[0;34m\u001b[0m\u001b[0m\n",
      "\u001b[0;31mCalledProcessError\u001b[0m: Command 'b'\\nproject=$(gcloud config get-value project 2> /dev/null)\\necho gs://temp_crypto_batch_${project//crypto-beta-test/bucket-beta}\\ngsutil mb gs://temp_crypto_batch_${project//crypto-beta-test/bucket-beta}\\n'' returned non-zero exit status 1."
     ]
    }
   ],
   "source": [
    "%%bash\n",
    "\n",
    "project=$(gcloud config get-value project 2> /dev/null)\n",
    "echo gs://temp_crypto_batch_${project//crypto-beta-test/bucket-beta}\n",
    "gsutil mb gs://temp_crypto_batch_${project//crypto-beta-test/bucket-beta}"
   ]
  },
  {
   "cell_type": "markdown",
   "id": "49fdcc03",
   "metadata": {},
   "source": [
    "Vérifier dans Cloud Storage que le bucket a effectivement été créé."
   ]
  },
  {
   "cell_type": "code",
   "execution_count": 28,
   "id": "e1caa003",
   "metadata": {},
   "outputs": [],
   "source": [
    "project = google.auth.default()[1]\n",
    "bucket = \"gs://temp_crypto_batch_bucket-beta/\" + project.replace('-', '_')\n",
    "\n",
    "options = PipelineOptions(\n",
    "        project=project,\n",
    "        staging_location=\"%s/staging_bq_notebook\" % bucket,\n",
    "        temp_location=\"%s/temp_bq_notebook\" % bucket\n",
    ")"
   ]
  },
  {
   "cell_type": "markdown",
   "id": "7051fc01",
   "metadata": {},
   "source": [
    "Attention : Il faut venir modifier dans la requête suivante la période de temps qui nous intéresse. Attention à bien régler tous les paramètres si vous souhaitez lancer le dataflow sur toutes les données, cela peut-être très long (en l'occurence plus de 2h30). Pour notre essai, nous allons restreindre la période temporelle à étudier"
   ]
  },
  {
   "cell_type": "code",
   "execution_count": 29,
   "id": "be5edea7",
   "metadata": {},
   "outputs": [],
   "source": [
    "query = '''\n",
    "#standardSQL\n",
    "-- parse requests for Aggregator script (oracle_script_id = 3)\n",
    "WITH parsed_aggregator_oracle_requests AS (\n",
    "    SELECT ARRAY(\n",
    "        SELECT JSON_EXTRACT_SCALAR(symbol_as_json, '$')\n",
    "        FROM UNNEST(JSON_EXTRACT_ARRAY(decoded_result.calldata, \"$.symbols\")) AS symbol_as_json\n",
    "    ) AS symbols,\n",
    "    CAST(JSON_EXTRACT_SCALAR(decoded_result.calldata, \"$.multiplier\") AS FLOAT64) AS multiplier,\n",
    "    ARRAY(\n",
    "        SELECT CAST(JSON_EXTRACT_SCALAR(rate_as_json, '$') AS FLOAT64)\n",
    "        FROM UNNEST(JSON_EXTRACT_ARRAY(decoded_result.result, \"$.rates\")) AS rate_as_json\n",
    "    ) AS rates,\n",
    "    block_timestamp,\n",
    "    block_timestamp_truncated,\n",
    "    oracle_request_id,\n",
    "    FROM `public-data-finance.crypto_band.oracle_requests`\n",
    "    WHERE request.oracle_script_id = 3\n",
    "      AND decoded_result.calldata IS NOT NULL\n",
    "      AND decoded_result.result IS NOT NULL\n",
    "),\n",
    "-- zip symbols and rates\n",
    "zipped_rates AS (\n",
    "    SELECT block_timestamp,\n",
    "        block_timestamp_truncated,\n",
    "        oracle_request_id,\n",
    "        struct(symbol, rates[OFFSET(off)] AS rate) AS zipped,\n",
    "        multiplier,\n",
    "    FROM parsed_aggregator_oracle_requests,\n",
    "        UNNEST(symbols) AS symbol WITH OFFSET off\n",
    "    WHERE ARRAY_LENGTH(symbols) = ARRAY_LENGTH(rates)\n",
    "),\n",
    "-- adjust for multiplier\n",
    "adjusted_rates AS (\n",
    "    SELECT \n",
    "        block_timestamp,\n",
    "        block_timestamp_truncated,\n",
    "        oracle_request_id,\n",
    "        struct(zipped.symbol, CAST(IEEE_DIVIDE(zipped.rate, multiplier) AS STRING) AS rate) AS zipped, \n",
    "    FROM zipped_rates\n",
    ")\n",
    "SELECT \n",
    "    block_timestamp,\n",
    "    block_timestamp_truncated,\n",
    "    oracle_request_id,\n",
    "    zipped.symbol,\n",
    "    zipped.rate,\n",
    "FROM adjusted_rates\n",
    "WHERE zipped.symbol = 'ETH' AND block_timestamp > '2021-07-26T00:00:00.0000000000Z'\n",
    "ORDER BY block_timestamp ASC\n",
    "--LIMIT 1000 \n",
    "'''"
   ]
  },
  {
   "cell_type": "code",
   "execution_count": 30,
   "id": "67835cf5",
   "metadata": {},
   "outputs": [
    {
     "name": "stderr",
     "output_type": "stream",
     "text": [
      "/root/apache-beam-2.25.0/lib/python3.7/site-packages/google/cloud/bigquery/client.py:407: UserWarning: Cannot create BigQuery Storage client, the dependency google-cloud-bigquery-storage is not installed.\n",
      "  \"Cannot create BigQuery Storage client, the dependency \"\n"
     ]
    },
    {
     "data": {
      "text/html": [
       "<div>\n",
       "<style scoped>\n",
       "    .dataframe tbody tr th:only-of-type {\n",
       "        vertical-align: middle;\n",
       "    }\n",
       "\n",
       "    .dataframe tbody tr th {\n",
       "        vertical-align: top;\n",
       "    }\n",
       "\n",
       "    .dataframe thead th {\n",
       "        text-align: right;\n",
       "    }\n",
       "</style>\n",
       "<table border=\"1\" class=\"dataframe\">\n",
       "  <thead>\n",
       "    <tr style=\"text-align: right;\">\n",
       "      <th></th>\n",
       "      <th>block_timestamp</th>\n",
       "      <th>block_timestamp_truncated</th>\n",
       "      <th>oracle_request_id</th>\n",
       "      <th>symbol</th>\n",
       "      <th>rate</th>\n",
       "    </tr>\n",
       "  </thead>\n",
       "  <tbody>\n",
       "    <tr>\n",
       "      <th>0</th>\n",
       "      <td>2021-07-26T00:00:04.807849815Z</td>\n",
       "      <td>2021-07-26 00:00:04.807849+00:00</td>\n",
       "      <td>8121963</td>\n",
       "      <td>ETH</td>\n",
       "      <td>2191.679999999</td>\n",
       "    </tr>\n",
       "    <tr>\n",
       "      <th>1</th>\n",
       "      <td>2021-07-26T00:00:11.650717545Z</td>\n",
       "      <td>2021-07-26 00:00:11.650717+00:00</td>\n",
       "      <td>8121968</td>\n",
       "      <td>ETH</td>\n",
       "      <td>2191.9533</td>\n",
       "    </tr>\n",
       "    <tr>\n",
       "      <th>2</th>\n",
       "      <td>2021-07-26T00:00:17.223110841Z</td>\n",
       "      <td>2021-07-26 00:00:17.223110+00:00</td>\n",
       "      <td>8121973</td>\n",
       "      <td>ETH</td>\n",
       "      <td>2192</td>\n",
       "    </tr>\n",
       "    <tr>\n",
       "      <th>3</th>\n",
       "      <td>2021-07-26T00:00:30.108639482Z</td>\n",
       "      <td>2021-07-26 00:00:30.108639+00:00</td>\n",
       "      <td>8121978</td>\n",
       "      <td>ETH</td>\n",
       "      <td>2192</td>\n",
       "    </tr>\n",
       "    <tr>\n",
       "      <th>4</th>\n",
       "      <td>2021-07-26T00:00:44.733576216Z</td>\n",
       "      <td>2021-07-26 00:00:44.733576+00:00</td>\n",
       "      <td>8121986</td>\n",
       "      <td>ETH</td>\n",
       "      <td>2191.94</td>\n",
       "    </tr>\n",
       "    <tr>\n",
       "      <th>...</th>\n",
       "      <td>...</td>\n",
       "      <td>...</td>\n",
       "      <td>...</td>\n",
       "      <td>...</td>\n",
       "      <td>...</td>\n",
       "    </tr>\n",
       "    <tr>\n",
       "      <th>97991</th>\n",
       "      <td>2021-08-06T23:59:14.750372181Z</td>\n",
       "      <td>2021-08-06 23:59:14.750372+00:00</td>\n",
       "      <td>8717431</td>\n",
       "      <td>ETH</td>\n",
       "      <td>2893.19</td>\n",
       "    </tr>\n",
       "    <tr>\n",
       "      <th>97992</th>\n",
       "      <td>2021-08-06T23:59:27.237776938Z</td>\n",
       "      <td>2021-08-06 23:59:27.237776+00:00</td>\n",
       "      <td>8717435</td>\n",
       "      <td>ETH</td>\n",
       "      <td>2893.19</td>\n",
       "    </tr>\n",
       "    <tr>\n",
       "      <th>97993</th>\n",
       "      <td>2021-08-06T23:59:36.667968309Z</td>\n",
       "      <td>2021-08-06 23:59:36.667968+00:00</td>\n",
       "      <td>8717441</td>\n",
       "      <td>ETH</td>\n",
       "      <td>2892.983</td>\n",
       "    </tr>\n",
       "    <tr>\n",
       "      <th>97994</th>\n",
       "      <td>2021-08-06T23:59:50.644331018Z</td>\n",
       "      <td>2021-08-06 23:59:50.644331+00:00</td>\n",
       "      <td>8717448</td>\n",
       "      <td>ETH</td>\n",
       "      <td>2892.983</td>\n",
       "    </tr>\n",
       "    <tr>\n",
       "      <th>97995</th>\n",
       "      <td>2021-08-06T23:59:56.767080512Z</td>\n",
       "      <td>2021-08-06 23:59:56.767080+00:00</td>\n",
       "      <td>8717455</td>\n",
       "      <td>ETH</td>\n",
       "      <td>2892.983</td>\n",
       "    </tr>\n",
       "  </tbody>\n",
       "</table>\n",
       "<p>97996 rows × 5 columns</p>\n",
       "</div>"
      ],
      "text/plain": [
       "                      block_timestamp        block_timestamp_truncated  \\\n",
       "0      2021-07-26T00:00:04.807849815Z 2021-07-26 00:00:04.807849+00:00   \n",
       "1      2021-07-26T00:00:11.650717545Z 2021-07-26 00:00:11.650717+00:00   \n",
       "2      2021-07-26T00:00:17.223110841Z 2021-07-26 00:00:17.223110+00:00   \n",
       "3      2021-07-26T00:00:30.108639482Z 2021-07-26 00:00:30.108639+00:00   \n",
       "4      2021-07-26T00:00:44.733576216Z 2021-07-26 00:00:44.733576+00:00   \n",
       "...                               ...                              ...   \n",
       "97991  2021-08-06T23:59:14.750372181Z 2021-08-06 23:59:14.750372+00:00   \n",
       "97992  2021-08-06T23:59:27.237776938Z 2021-08-06 23:59:27.237776+00:00   \n",
       "97993  2021-08-06T23:59:36.667968309Z 2021-08-06 23:59:36.667968+00:00   \n",
       "97994  2021-08-06T23:59:50.644331018Z 2021-08-06 23:59:50.644331+00:00   \n",
       "97995  2021-08-06T23:59:56.767080512Z 2021-08-06 23:59:56.767080+00:00   \n",
       "\n",
       "       oracle_request_id symbol            rate  \n",
       "0                8121963    ETH  2191.679999999  \n",
       "1                8121968    ETH       2191.9533  \n",
       "2                8121973    ETH            2192  \n",
       "3                8121978    ETH            2192  \n",
       "4                8121986    ETH         2191.94  \n",
       "...                  ...    ...             ...  \n",
       "97991            8717431    ETH         2893.19  \n",
       "97992            8717435    ETH         2893.19  \n",
       "97993            8717441    ETH        2892.983  \n",
       "97994            8717448    ETH        2892.983  \n",
       "97995            8717455    ETH        2892.983  \n",
       "\n",
       "[97996 rows x 5 columns]"
      ]
     },
     "execution_count": 30,
     "metadata": {},
     "output_type": "execute_result"
    }
   ],
   "source": [
    "client = bigquery.Client() \n",
    "query_df = client.query(query).result().to_dataframe()\n",
    "query_df"
   ]
  },
  {
   "cell_type": "markdown",
   "id": "b18554ec",
   "metadata": {},
   "source": [
    "2. Interactive Runner"
   ]
  },
  {
   "cell_type": "markdown",
   "id": "cd32fb9c",
   "metadata": {},
   "source": [
    "Testons la pipeline de données en local avec interactiverunner(). Le code va donc se lancer et s'executer depuis la VM. "
   ]
  },
  {
   "cell_type": "code",
   "execution_count": 31,
   "id": "125ec70d",
   "metadata": {},
   "outputs": [],
   "source": [
    "logging.getLogger().setLevel(logging.WARNING)"
   ]
  },
  {
   "cell_type": "code",
   "execution_count": 32,
   "id": "3321fdb3",
   "metadata": {},
   "outputs": [
    {
     "data": {
      "text/html": [
       "\n",
       "            <link rel=\"stylesheet\" href=\"https://stackpath.bootstrapcdn.com/bootstrap/4.4.1/css/bootstrap.min.css\" integrity=\"sha384-Vkoo8x4CGsO3+Hhxv8T/Q5PaXtkKtu6ug5TOeNV6gBiFeWPGFN9MuhOf23Q9Ifjh\" crossorigin=\"anonymous\">\n",
       "            <div id=\"progress_indicator_10f73ad4f118208debc6b3583cff510e\" class=\"spinner-border text-info\" role=\"status\">\n",
       "            </div>"
      ],
      "text/plain": [
       "<IPython.core.display.HTML object>"
      ]
     },
     "metadata": {},
     "output_type": "display_data"
    },
    {
     "data": {
      "text/html": [
       "<?xml version=\"1.0\" encoding=\"UTF-8\" standalone=\"no\"?>\n",
       "<!DOCTYPE svg PUBLIC \"-//W3C//DTD SVG 1.1//EN\"\n",
       " \"http://www.w3.org/Graphics/SVG/1.1/DTD/svg11.dtd\">\n",
       "<!-- Generated by graphviz version 2.40.1 (20161225.0304)\n",
       " -->\n",
       "<!-- Title: G Pages: 1 -->\n",
       "<svg width=\"196pt\" height=\"404pt\"\n",
       " viewBox=\"0.00 0.00 196.00 404.00\" xmlns=\"http://www.w3.org/2000/svg\" xmlns:xlink=\"http://www.w3.org/1999/xlink\">\n",
       "<g id=\"graph0\" class=\"graph\" transform=\"scale(1 1) rotate(0) translate(4 400)\">\n",
       "<title>G</title>\n",
       "<polygon fill=\"#ffffff\" stroke=\"transparent\" points=\"-4,4 -4,-400 192,-400 192,4 -4,4\"/>\n",
       "<!-- [32]: Create -->\n",
       "<g id=\"node1\" class=\"node\">\n",
       "<title>[32]: Create</title>\n",
       "<polygon fill=\"none\" stroke=\"#0000ff\" points=\"145.5,-396 42.5,-396 42.5,-360 145.5,-360 145.5,-396\"/>\n",
       "<text text-anchor=\"middle\" x=\"94\" y=\"-374.3\" font-family=\"Times,serif\" font-size=\"14.00\" fill=\"#0000ff\">[32]: Create</text>\n",
       "</g>\n",
       "<!-- pcoll3996 -->\n",
       "<g id=\"node2\" class=\"node\">\n",
       "<title>pcoll3996</title>\n",
       "<ellipse fill=\"none\" stroke=\"#0000ff\" cx=\"94\" cy=\"-306\" rx=\"18\" ry=\"18\"/>\n",
       "</g>\n",
       "<!-- [32]: Create&#45;&gt;pcoll3996 -->\n",
       "<g id=\"edge1\" class=\"edge\">\n",
       "<title>[32]: Create&#45;&gt;pcoll3996</title>\n",
       "<path fill=\"none\" stroke=\"#000000\" d=\"M94,-359.8314C94,-352.131 94,-342.9743 94,-334.4166\"/>\n",
       "<polygon fill=\"#000000\" stroke=\"#000000\" points=\"97.5001,-334.4132 94,-324.4133 90.5001,-334.4133 97.5001,-334.4132\"/>\n",
       "</g>\n",
       "<!-- [32]: Map Keys -->\n",
       "<g id=\"node3\" class=\"node\">\n",
       "<title>[32]: Map Keys</title>\n",
       "<polygon fill=\"none\" stroke=\"#0000ff\" points=\"156,-252 32,-252 32,-216 156,-216 156,-252\"/>\n",
       "<text text-anchor=\"middle\" x=\"94\" y=\"-230.3\" font-family=\"Times,serif\" font-size=\"14.00\" fill=\"#0000ff\">[32]: Map Keys</text>\n",
       "</g>\n",
       "<!-- pcoll3996&#45;&gt;[32]: Map Keys -->\n",
       "<g id=\"edge2\" class=\"edge\">\n",
       "<title>pcoll3996&#45;&gt;[32]: Map Keys</title>\n",
       "<path fill=\"none\" stroke=\"#000000\" d=\"M94,-287.8314C94,-280.131 94,-270.9743 94,-262.4166\"/>\n",
       "<polygon fill=\"#000000\" stroke=\"#000000\" points=\"97.5001,-262.4132 94,-252.4133 90.5001,-262.4133 97.5001,-262.4132\"/>\n",
       "</g>\n",
       "<!-- pcoll968 -->\n",
       "<g id=\"node4\" class=\"node\">\n",
       "<title>pcoll968</title>\n",
       "<ellipse fill=\"none\" stroke=\"#0000ff\" cx=\"94\" cy=\"-162\" rx=\"18\" ry=\"18\"/>\n",
       "</g>\n",
       "<!-- [32]: Map Keys&#45;&gt;pcoll968 -->\n",
       "<g id=\"edge3\" class=\"edge\">\n",
       "<title>[32]: Map Keys&#45;&gt;pcoll968</title>\n",
       "<path fill=\"none\" stroke=\"#000000\" d=\"M94,-215.8314C94,-208.131 94,-198.9743 94,-190.4166\"/>\n",
       "<polygon fill=\"#000000\" stroke=\"#000000\" points=\"97.5001,-190.4132 94,-180.4133 90.5001,-190.4133 97.5001,-190.4132\"/>\n",
       "</g>\n",
       "<!-- [32]: Write To BigQuery -->\n",
       "<g id=\"node5\" class=\"node\">\n",
       "<title>[32]: Write To BigQuery</title>\n",
       "<polygon fill=\"none\" stroke=\"#0000ff\" points=\"188,-108 0,-108 0,-72 188,-72 188,-108\"/>\n",
       "<text text-anchor=\"middle\" x=\"94\" y=\"-86.3\" font-family=\"Times,serif\" font-size=\"14.00\" fill=\"#0000ff\">[32]: Write To BigQuery</text>\n",
       "</g>\n",
       "<!-- pcoll968&#45;&gt;[32]: Write To BigQuery -->\n",
       "<g id=\"edge4\" class=\"edge\">\n",
       "<title>pcoll968&#45;&gt;[32]: Write To BigQuery</title>\n",
       "<path fill=\"none\" stroke=\"#000000\" d=\"M94,-143.8314C94,-136.131 94,-126.9743 94,-118.4166\"/>\n",
       "<polygon fill=\"#000000\" stroke=\"#000000\" points=\"97.5001,-118.4132 94,-108.4133 90.5001,-118.4133 97.5001,-118.4132\"/>\n",
       "</g>\n",
       "<!-- pcoll8885 -->\n",
       "<g id=\"node6\" class=\"node\">\n",
       "<title>pcoll8885</title>\n",
       "<ellipse fill=\"none\" stroke=\"#0000ff\" cx=\"40\" cy=\"-18\" rx=\"18\" ry=\"18\"/>\n",
       "</g>\n",
       "<!-- [32]: Write To BigQuery&#45;&gt;pcoll8885 -->\n",
       "<g id=\"edge5\" class=\"edge\">\n",
       "<title>[32]: Write To BigQuery&#45;&gt;pcoll8885</title>\n",
       "<path fill=\"none\" stroke=\"#000000\" d=\"M80.3735,-71.8314C73.3172,-62.4229 64.6305,-50.8407 57.1247,-40.8329\"/>\n",
       "<polygon fill=\"#000000\" stroke=\"#000000\" points=\"59.7034,-38.4378 50.9033,-32.5378 54.1034,-42.6378 59.7034,-38.4378\"/>\n",
       "</g>\n",
       "<!-- pcoll5207 -->\n",
       "<g id=\"node7\" class=\"node\">\n",
       "<title>pcoll5207</title>\n",
       "<ellipse fill=\"none\" stroke=\"#0000ff\" cx=\"94\" cy=\"-18\" rx=\"18\" ry=\"18\"/>\n",
       "</g>\n",
       "<!-- [32]: Write To BigQuery&#45;&gt;pcoll5207 -->\n",
       "<g id=\"edge6\" class=\"edge\">\n",
       "<title>[32]: Write To BigQuery&#45;&gt;pcoll5207</title>\n",
       "<path fill=\"none\" stroke=\"#000000\" d=\"M94,-71.8314C94,-64.131 94,-54.9743 94,-46.4166\"/>\n",
       "<polygon fill=\"#000000\" stroke=\"#000000\" points=\"97.5001,-46.4132 94,-36.4133 90.5001,-46.4133 97.5001,-46.4132\"/>\n",
       "</g>\n",
       "<!-- pcoll3945 -->\n",
       "<g id=\"node8\" class=\"node\">\n",
       "<title>pcoll3945</title>\n",
       "<ellipse fill=\"none\" stroke=\"#0000ff\" cx=\"148\" cy=\"-18\" rx=\"18\" ry=\"18\"/>\n",
       "</g>\n",
       "<!-- [32]: Write To BigQuery&#45;&gt;pcoll3945 -->\n",
       "<g id=\"edge7\" class=\"edge\">\n",
       "<title>[32]: Write To BigQuery&#45;&gt;pcoll3945</title>\n",
       "<path fill=\"none\" stroke=\"#000000\" d=\"M107.6265,-71.8314C114.6828,-62.4229 123.3695,-50.8407 130.8753,-40.8329\"/>\n",
       "<polygon fill=\"#000000\" stroke=\"#000000\" points=\"133.8966,-42.6378 137.0967,-32.5378 128.2966,-38.4378 133.8966,-42.6378\"/>\n",
       "</g>\n",
       "</g>\n",
       "</svg>\n"
      ],
      "text/plain": [
       "<IPython.core.display.HTML object>"
      ]
     },
     "metadata": {},
     "output_type": "display_data"
    },
    {
     "data": {
      "application/javascript": [
       "\n",
       "        if (typeof window.interactive_beam_jquery == 'undefined') {\n",
       "          var jqueryScript = document.createElement('script');\n",
       "          jqueryScript.src = 'https://code.jquery.com/jquery-3.4.1.slim.min.js';\n",
       "          jqueryScript.type = 'text/javascript';\n",
       "          jqueryScript.onload = function() {\n",
       "            var datatableScript = document.createElement('script');\n",
       "            datatableScript.src = 'https://cdn.datatables.net/1.10.20/js/jquery.dataTables.min.js';\n",
       "            datatableScript.type = 'text/javascript';\n",
       "            datatableScript.onload = function() {\n",
       "              window.interactive_beam_jquery = jQuery.noConflict(true);\n",
       "              window.interactive_beam_jquery(document).ready(function($){\n",
       "                \n",
       "            $(\"#progress_indicator_10f73ad4f118208debc6b3583cff510e\").remove();\n",
       "              });\n",
       "            }\n",
       "            document.head.appendChild(datatableScript);\n",
       "          };\n",
       "          document.head.appendChild(jqueryScript);\n",
       "        } else {\n",
       "          window.interactive_beam_jquery(document).ready(function($){\n",
       "            \n",
       "            $(\"#progress_indicator_10f73ad4f118208debc6b3583cff510e\").remove();\n",
       "          });\n",
       "        }"
      ]
     },
     "metadata": {},
     "output_type": "display_data"
    }
   ],
   "source": [
    "import pandas \n",
    "\n",
    "class KeepDoFn(beam.DoFn):\n",
    "    def process(self, element):\n",
    "        return [{\n",
    "            'timestamp': element['block_timestamp_truncated'],\n",
    "            'request': str(element['oracle_request_id']),\n",
    "            'symbol' : element['symbol'],\n",
    "            'rate' : element['rate'], \n",
    "            'date_str' : pandas.to_datetime(element['block_timestamp'], format='%Y-%m-%dT%H:%M:%S.%fZ').strftime(\"%Y%m%d%H%M%S\")\n",
    "    }]\n",
    "    \n",
    "table = \"{}:temp_crypto_batch.batch_1\".format(project)\n",
    "schema = \"timestamp:TIMESTAMP, request:STRING, symbol:STRING, rate:FLOAT, date_str:STRING\"\n",
    "\n",
    "p = beam.Pipeline(InteractiveRunner(), options=options)\n",
    "create = (p | \"Create\" >>  beam.io.ReadFromBigQuery(query=query,use_standard_sql=True)\n",
    "            | \"Map Keys\" >> beam.ParDo(KeepDoFn())\n",
    "            | \"Write To BigQuery\" >> WriteToBigQuery(table=table, schema=schema,\n",
    "                                  create_disposition=BigQueryDisposition.CREATE_IF_NEEDED,\n",
    "                                  write_disposition=BigQueryDisposition.WRITE_APPEND))\n",
    "\n",
    "ib.show_graph(p)"
   ]
  },
  {
   "cell_type": "code",
   "execution_count": 33,
   "id": "08378c39",
   "metadata": {},
   "outputs": [
    {
     "data": {
      "text/html": [
       "\n",
       "            <link rel=\"stylesheet\" href=\"https://stackpath.bootstrapcdn.com/bootstrap/4.4.1/css/bootstrap.min.css\" integrity=\"sha384-Vkoo8x4CGsO3+Hhxv8T/Q5PaXtkKtu6ug5TOeNV6gBiFeWPGFN9MuhOf23Q9Ifjh\" crossorigin=\"anonymous\">\n",
       "            <div id=\"progress_indicator_16d72f6b590c8f06b406d0d502b3e5cc\" class=\"spinner-border text-info\" role=\"status\">\n",
       "            </div>"
      ],
      "text/plain": [
       "<IPython.core.display.HTML object>"
      ]
     },
     "metadata": {},
     "output_type": "display_data"
    },
    {
     "name": "stderr",
     "output_type": "stream",
     "text": [
      "WARNING:apache_beam.io.gcp.bigquery_tools:Dataset crypto-beta-test:temp_dataset_d8cebc7782514909baf1934f83c1f554 does not exist so we will create it as temporary with location=US\n"
     ]
    },
    {
     "data": {
      "text/html": [
       "\n",
       "            <style>\n",
       "            .p-Widget.jp-OutputPrompt.jp-OutputArea-prompt:empty {\n",
       "              padding: 0;\n",
       "              border: 0;\n",
       "            }\n",
       "            .p-Widget.jp-RenderedJavaScript.jp-mod-trusted.jp-OutputArea-output:empty {\n",
       "              padding: 0;\n",
       "              border: 0;\n",
       "            }\n",
       "            </style>\n",
       "            <link rel=\"stylesheet\" href=\"https://cdn.datatables.net/1.10.20/css/jquery.dataTables.min.css\">\n",
       "            <table id=\"table_df_0ed0a00cc0dbde94608903d2377c0a4c\" class=\"display\" style=\"display:block\"></table>\n",
       "            <script>\n",
       "              \n",
       "        if (typeof window.interactive_beam_jquery == 'undefined') {\n",
       "          var jqueryScript = document.createElement('script');\n",
       "          jqueryScript.src = 'https://code.jquery.com/jquery-3.4.1.slim.min.js';\n",
       "          jqueryScript.type = 'text/javascript';\n",
       "          jqueryScript.onload = function() {\n",
       "            var datatableScript = document.createElement('script');\n",
       "            datatableScript.src = 'https://cdn.datatables.net/1.10.20/js/jquery.dataTables.min.js';\n",
       "            datatableScript.type = 'text/javascript';\n",
       "            datatableScript.onload = function() {\n",
       "              window.interactive_beam_jquery = jQuery.noConflict(true);\n",
       "              window.interactive_beam_jquery(document).ready(function($){\n",
       "                \n",
       "            var dt;\n",
       "            if ($.fn.dataTable.isDataTable(\"#table_df_0ed0a00cc0dbde94608903d2377c0a4c\")) {\n",
       "              dt = $(\"#table_df_0ed0a00cc0dbde94608903d2377c0a4c\").dataTable();\n",
       "            } else if ($(\"#table_df_0ed0a00cc0dbde94608903d2377c0a4c_wrapper\").length == 0) {\n",
       "              dt = $(\"#table_df_0ed0a00cc0dbde94608903d2377c0a4c\").dataTable({\n",
       "                \n",
       "            bAutoWidth: false,\n",
       "            columns: [{'title': ''}, {'title': 'anonymous_pcollection_140255548268496.0'}, {'title': 'anonymous_pcollection_140255548268496.1'}],\n",
       "            destroy: true,\n",
       "            responsive: true,\n",
       "            columnDefs: [\n",
       "              {\n",
       "                targets: \"_all\",\n",
       "                className: \"dt-left\"\n",
       "              },\n",
       "              {\n",
       "                \"targets\": 0,\n",
       "                \"width\": \"10px\",\n",
       "                \"title\": \"\"\n",
       "              }\n",
       "            ]\n",
       "              });\n",
       "            } else {\n",
       "              return;\n",
       "            }\n",
       "            dt.api()\n",
       "              .clear()\n",
       "              .rows.add([{1: 'crypto-beta-test:temp_crypto_batch.batch_1', 2: \"<JobReference\\n jobId: 'beam_bq_job_LOAD_AUTOMATIC_JOB_NAME_LOAD_STEP_580_ae870b90b651617ecd49f3630f9463d7_0b7de0646f81419a90e3001f56b4c217'\\n location: 'US'\\n projectId: 'crypto-beta-test'>\", 0: 0}])\n",
       "              .draw('full-hold');\n",
       "              });\n",
       "            }\n",
       "            document.head.appendChild(datatableScript);\n",
       "          };\n",
       "          document.head.appendChild(jqueryScript);\n",
       "        } else {\n",
       "          window.interactive_beam_jquery(document).ready(function($){\n",
       "            \n",
       "            var dt;\n",
       "            if ($.fn.dataTable.isDataTable(\"#table_df_0ed0a00cc0dbde94608903d2377c0a4c\")) {\n",
       "              dt = $(\"#table_df_0ed0a00cc0dbde94608903d2377c0a4c\").dataTable();\n",
       "            } else if ($(\"#table_df_0ed0a00cc0dbde94608903d2377c0a4c_wrapper\").length == 0) {\n",
       "              dt = $(\"#table_df_0ed0a00cc0dbde94608903d2377c0a4c\").dataTable({\n",
       "                \n",
       "            bAutoWidth: false,\n",
       "            columns: [{'title': ''}, {'title': 'anonymous_pcollection_140255548268496.0'}, {'title': 'anonymous_pcollection_140255548268496.1'}],\n",
       "            destroy: true,\n",
       "            responsive: true,\n",
       "            columnDefs: [\n",
       "              {\n",
       "                targets: \"_all\",\n",
       "                className: \"dt-left\"\n",
       "              },\n",
       "              {\n",
       "                \"targets\": 0,\n",
       "                \"width\": \"10px\",\n",
       "                \"title\": \"\"\n",
       "              }\n",
       "            ]\n",
       "              });\n",
       "            } else {\n",
       "              return;\n",
       "            }\n",
       "            dt.api()\n",
       "              .clear()\n",
       "              .rows.add([{1: 'crypto-beta-test:temp_crypto_batch.batch_1', 2: \"<JobReference\\n jobId: 'beam_bq_job_LOAD_AUTOMATIC_JOB_NAME_LOAD_STEP_580_ae870b90b651617ecd49f3630f9463d7_0b7de0646f81419a90e3001f56b4c217'\\n location: 'US'\\n projectId: 'crypto-beta-test'>\", 0: 0}])\n",
       "              .draw('full-hold');\n",
       "          });\n",
       "        }\n",
       "            </script>"
      ],
      "text/plain": [
       "<IPython.core.display.HTML object>"
      ]
     },
     "metadata": {},
     "output_type": "display_data"
    },
    {
     "data": {
      "text/html": [
       "\n",
       "            <style>\n",
       "            .p-Widget.jp-OutputPrompt.jp-OutputArea-prompt:empty {\n",
       "              padding: 0;\n",
       "              border: 0;\n",
       "            }\n",
       "            .p-Widget.jp-RenderedJavaScript.jp-mod-trusted.jp-OutputArea-output:empty {\n",
       "              padding: 0;\n",
       "              border: 0;\n",
       "            }\n",
       "            </style>\n",
       "            <link rel=\"stylesheet\" href=\"https://cdn.datatables.net/1.10.20/css/jquery.dataTables.min.css\">\n",
       "            <table id=\"table_df_3257370002efff6d430ef2f030b6362d\" class=\"display\" style=\"display:block\"></table>\n",
       "            <script>\n",
       "              \n",
       "        if (typeof window.interactive_beam_jquery == 'undefined') {\n",
       "          var jqueryScript = document.createElement('script');\n",
       "          jqueryScript.src = 'https://code.jquery.com/jquery-3.4.1.slim.min.js';\n",
       "          jqueryScript.type = 'text/javascript';\n",
       "          jqueryScript.onload = function() {\n",
       "            var datatableScript = document.createElement('script');\n",
       "            datatableScript.src = 'https://cdn.datatables.net/1.10.20/js/jquery.dataTables.min.js';\n",
       "            datatableScript.type = 'text/javascript';\n",
       "            datatableScript.onload = function() {\n",
       "              window.interactive_beam_jquery = jQuery.noConflict(true);\n",
       "              window.interactive_beam_jquery(document).ready(function($){\n",
       "                \n",
       "            var dt;\n",
       "            if ($.fn.dataTable.isDataTable(\"#table_df_3257370002efff6d430ef2f030b6362d\")) {\n",
       "              dt = $(\"#table_df_3257370002efff6d430ef2f030b6362d\").dataTable();\n",
       "            } else if ($(\"#table_df_3257370002efff6d430ef2f030b6362d_wrapper\").length == 0) {\n",
       "              dt = $(\"#table_df_3257370002efff6d430ef2f030b6362d\").dataTable({\n",
       "                \n",
       "            bAutoWidth: false,\n",
       "            columns: [{'title': ''}, {'title': 'anonymous_pcollection_140255548210192.0'}, {'title': 'anonymous_pcollection_140255548210192.1'}],\n",
       "            destroy: true,\n",
       "            responsive: true,\n",
       "            columnDefs: [\n",
       "              {\n",
       "                targets: \"_all\",\n",
       "                className: \"dt-left\"\n",
       "              },\n",
       "              {\n",
       "                \"targets\": 0,\n",
       "                \"width\": \"10px\",\n",
       "                \"title\": \"\"\n",
       "              }\n",
       "            ]\n",
       "              });\n",
       "            } else {\n",
       "              return;\n",
       "            }\n",
       "            dt.api()\n",
       "              .clear()\n",
       "              .rows.add([{1: 'crypto-beta-test:temp_crypto_batch.batch_1', 2: \"('gs://temp_crypto_batch_bucket-beta/crypto_beta_test/temp_bq_notebook/bq_load/0686431c03934154b580ab82b8ed7b20/crypto-beta-test.temp_crypto_batch.batch_1/2b66ddaf-ccc9-48d5-8222-d332612cb077', 13571122)\", 0: 0}])\n",
       "              .draw('full-hold');\n",
       "              });\n",
       "            }\n",
       "            document.head.appendChild(datatableScript);\n",
       "          };\n",
       "          document.head.appendChild(jqueryScript);\n",
       "        } else {\n",
       "          window.interactive_beam_jquery(document).ready(function($){\n",
       "            \n",
       "            var dt;\n",
       "            if ($.fn.dataTable.isDataTable(\"#table_df_3257370002efff6d430ef2f030b6362d\")) {\n",
       "              dt = $(\"#table_df_3257370002efff6d430ef2f030b6362d\").dataTable();\n",
       "            } else if ($(\"#table_df_3257370002efff6d430ef2f030b6362d_wrapper\").length == 0) {\n",
       "              dt = $(\"#table_df_3257370002efff6d430ef2f030b6362d\").dataTable({\n",
       "                \n",
       "            bAutoWidth: false,\n",
       "            columns: [{'title': ''}, {'title': 'anonymous_pcollection_140255548210192.0'}, {'title': 'anonymous_pcollection_140255548210192.1'}],\n",
       "            destroy: true,\n",
       "            responsive: true,\n",
       "            columnDefs: [\n",
       "              {\n",
       "                targets: \"_all\",\n",
       "                className: \"dt-left\"\n",
       "              },\n",
       "              {\n",
       "                \"targets\": 0,\n",
       "                \"width\": \"10px\",\n",
       "                \"title\": \"\"\n",
       "              }\n",
       "            ]\n",
       "              });\n",
       "            } else {\n",
       "              return;\n",
       "            }\n",
       "            dt.api()\n",
       "              .clear()\n",
       "              .rows.add([{1: 'crypto-beta-test:temp_crypto_batch.batch_1', 2: \"('gs://temp_crypto_batch_bucket-beta/crypto_beta_test/temp_bq_notebook/bq_load/0686431c03934154b580ab82b8ed7b20/crypto-beta-test.temp_crypto_batch.batch_1/2b66ddaf-ccc9-48d5-8222-d332612cb077', 13571122)\", 0: 0}])\n",
       "              .draw('full-hold');\n",
       "          });\n",
       "        }\n",
       "            </script>"
      ],
      "text/plain": [
       "<IPython.core.display.HTML object>"
      ]
     },
     "metadata": {},
     "output_type": "display_data"
    },
    {
     "data": {
      "text/html": [
       "\n",
       "            <style>\n",
       "            .p-Widget.jp-OutputPrompt.jp-OutputArea-prompt:empty {\n",
       "              padding: 0;\n",
       "              border: 0;\n",
       "            }\n",
       "            .p-Widget.jp-RenderedJavaScript.jp-mod-trusted.jp-OutputArea-output:empty {\n",
       "              padding: 0;\n",
       "              border: 0;\n",
       "            }\n",
       "            </style>\n",
       "            <div id=\"no_data_table_df_6878bb35e2c1c8ebaebf95dba6e3a018\">No data to display.</div>"
      ],
      "text/plain": [
       "<IPython.core.display.HTML object>"
      ]
     },
     "metadata": {},
     "output_type": "display_data"
    },
    {
     "data": {
      "application/javascript": [
       "\n",
       "        if (typeof window.interactive_beam_jquery == 'undefined') {\n",
       "          var jqueryScript = document.createElement('script');\n",
       "          jqueryScript.src = 'https://code.jquery.com/jquery-3.4.1.slim.min.js';\n",
       "          jqueryScript.type = 'text/javascript';\n",
       "          jqueryScript.onload = function() {\n",
       "            var datatableScript = document.createElement('script');\n",
       "            datatableScript.src = 'https://cdn.datatables.net/1.10.20/js/jquery.dataTables.min.js';\n",
       "            datatableScript.type = 'text/javascript';\n",
       "            datatableScript.onload = function() {\n",
       "              window.interactive_beam_jquery = jQuery.noConflict(true);\n",
       "              window.interactive_beam_jquery(document).ready(function($){\n",
       "                \n",
       "            $(\"#progress_indicator_16d72f6b590c8f06b406d0d502b3e5cc\").remove();\n",
       "              });\n",
       "            }\n",
       "            document.head.appendChild(datatableScript);\n",
       "          };\n",
       "          document.head.appendChild(jqueryScript);\n",
       "        } else {\n",
       "          window.interactive_beam_jquery(document).ready(function($){\n",
       "            \n",
       "            $(\"#progress_indicator_16d72f6b590c8f06b406d0d502b3e5cc\").remove();\n",
       "          });\n",
       "        }"
      ]
     },
     "metadata": {},
     "output_type": "display_data"
    }
   ],
   "source": [
    "ib.show(create)"
   ]
  },
  {
   "cell_type": "markdown",
   "id": "c86b3ef1",
   "metadata": {},
   "source": [
    "On peut visualiser que l'insertion s'est effectuée correctement en effectuant une requête à bigquery depuis ce notebook"
   ]
  },
  {
   "cell_type": "code",
   "execution_count": 34,
   "id": "9eae415b",
   "metadata": {},
   "outputs": [],
   "source": [
    "query = '''\n",
    "SELECT *  FROM `{project}.temp_crypto_batch.batch_1` LIMIT 10\n",
    "'''.format(project=project)"
   ]
  },
  {
   "cell_type": "code",
   "execution_count": 35,
   "id": "26697fec",
   "metadata": {},
   "outputs": [
    {
     "data": {
      "text/plain": [
       "'\\nSELECT *  FROM `crypto-beta-test.temp_crypto_batch.batch_1` LIMIT 10\\n'"
      ]
     },
     "execution_count": 35,
     "metadata": {},
     "output_type": "execute_result"
    }
   ],
   "source": [
    "query"
   ]
  },
  {
   "cell_type": "code",
   "execution_count": 36,
   "id": "1dbef5eb",
   "metadata": {},
   "outputs": [
    {
     "name": "stderr",
     "output_type": "stream",
     "text": [
      "/root/apache-beam-2.25.0/lib/python3.7/site-packages/google/cloud/bigquery/client.py:407: UserWarning: Cannot create BigQuery Storage client, the dependency google-cloud-bigquery-storage is not installed.\n",
      "  \"Cannot create BigQuery Storage client, the dependency \"\n"
     ]
    },
    {
     "data": {
      "text/html": [
       "<div>\n",
       "<style scoped>\n",
       "    .dataframe tbody tr th:only-of-type {\n",
       "        vertical-align: middle;\n",
       "    }\n",
       "\n",
       "    .dataframe tbody tr th {\n",
       "        vertical-align: top;\n",
       "    }\n",
       "\n",
       "    .dataframe thead th {\n",
       "        text-align: right;\n",
       "    }\n",
       "</style>\n",
       "<table border=\"1\" class=\"dataframe\">\n",
       "  <thead>\n",
       "    <tr style=\"text-align: right;\">\n",
       "      <th></th>\n",
       "      <th>timestamp</th>\n",
       "      <th>request</th>\n",
       "      <th>symbol</th>\n",
       "      <th>rate</th>\n",
       "      <th>date_str</th>\n",
       "    </tr>\n",
       "  </thead>\n",
       "  <tbody>\n",
       "    <tr>\n",
       "      <th>0</th>\n",
       "      <td>2021-07-26 01:48:06.037118+00:00</td>\n",
       "      <td>8125734</td>\n",
       "      <td>ETH</td>\n",
       "      <td>2304.0</td>\n",
       "      <td>20210726014806</td>\n",
       "    </tr>\n",
       "    <tr>\n",
       "      <th>1</th>\n",
       "      <td>2021-07-26 01:48:37.149982+00:00</td>\n",
       "      <td>8125749</td>\n",
       "      <td>ETH</td>\n",
       "      <td>2304.0</td>\n",
       "      <td>20210726014837</td>\n",
       "    </tr>\n",
       "    <tr>\n",
       "      <th>2</th>\n",
       "      <td>2021-07-26 01:49:23.049240+00:00</td>\n",
       "      <td>8125773</td>\n",
       "      <td>ETH</td>\n",
       "      <td>2304.0</td>\n",
       "      <td>20210726014923</td>\n",
       "    </tr>\n",
       "    <tr>\n",
       "      <th>3</th>\n",
       "      <td>2021-07-26 02:17:46.696775+00:00</td>\n",
       "      <td>8126766</td>\n",
       "      <td>ETH</td>\n",
       "      <td>2304.0</td>\n",
       "      <td>20210726021746</td>\n",
       "    </tr>\n",
       "    <tr>\n",
       "      <th>4</th>\n",
       "      <td>2021-07-26 02:17:53.665170+00:00</td>\n",
       "      <td>8126771</td>\n",
       "      <td>ETH</td>\n",
       "      <td>2304.0</td>\n",
       "      <td>20210726021753</td>\n",
       "    </tr>\n",
       "    <tr>\n",
       "      <th>5</th>\n",
       "      <td>2021-07-27 13:56:32.651279+00:00</td>\n",
       "      <td>8199583</td>\n",
       "      <td>ETH</td>\n",
       "      <td>2304.0</td>\n",
       "      <td>20210727135632</td>\n",
       "    </tr>\n",
       "    <tr>\n",
       "      <th>6</th>\n",
       "      <td>2021-07-27 14:01:13.594706+00:00</td>\n",
       "      <td>8199740</td>\n",
       "      <td>ETH</td>\n",
       "      <td>2304.0</td>\n",
       "      <td>20210727140113</td>\n",
       "    </tr>\n",
       "    <tr>\n",
       "      <th>7</th>\n",
       "      <td>2021-07-28 10:21:05.861121+00:00</td>\n",
       "      <td>8238839</td>\n",
       "      <td>ETH</td>\n",
       "      <td>2304.0</td>\n",
       "      <td>20210728102105</td>\n",
       "    </tr>\n",
       "    <tr>\n",
       "      <th>8</th>\n",
       "      <td>2021-07-28 10:21:44.232029+00:00</td>\n",
       "      <td>8238862</td>\n",
       "      <td>ETH</td>\n",
       "      <td>2304.0</td>\n",
       "      <td>20210728102144</td>\n",
       "    </tr>\n",
       "    <tr>\n",
       "      <th>9</th>\n",
       "      <td>2021-07-28 16:12:59.640273+00:00</td>\n",
       "      <td>8250572</td>\n",
       "      <td>ETH</td>\n",
       "      <td>2304.0</td>\n",
       "      <td>20210728161259</td>\n",
       "    </tr>\n",
       "  </tbody>\n",
       "</table>\n",
       "</div>"
      ],
      "text/plain": [
       "                         timestamp  request symbol    rate        date_str\n",
       "0 2021-07-26 01:48:06.037118+00:00  8125734    ETH  2304.0  20210726014806\n",
       "1 2021-07-26 01:48:37.149982+00:00  8125749    ETH  2304.0  20210726014837\n",
       "2 2021-07-26 01:49:23.049240+00:00  8125773    ETH  2304.0  20210726014923\n",
       "3 2021-07-26 02:17:46.696775+00:00  8126766    ETH  2304.0  20210726021746\n",
       "4 2021-07-26 02:17:53.665170+00:00  8126771    ETH  2304.0  20210726021753\n",
       "5 2021-07-27 13:56:32.651279+00:00  8199583    ETH  2304.0  20210727135632\n",
       "6 2021-07-27 14:01:13.594706+00:00  8199740    ETH  2304.0  20210727140113\n",
       "7 2021-07-28 10:21:05.861121+00:00  8238839    ETH  2304.0  20210728102105\n",
       "8 2021-07-28 10:21:44.232029+00:00  8238862    ETH  2304.0  20210728102144\n",
       "9 2021-07-28 16:12:59.640273+00:00  8250572    ETH  2304.0  20210728161259"
      ]
     },
     "execution_count": 36,
     "metadata": {},
     "output_type": "execute_result"
    }
   ],
   "source": [
    "client = bigquery.Client() \n",
    "query_df = client.query(query).result().to_dataframe()\n",
    "query_df"
   ]
  },
  {
   "cell_type": "markdown",
   "id": "6b97299d",
   "metadata": {},
   "source": [
    "3. DataflowRunner"
   ]
  },
  {
   "cell_type": "markdown",
   "id": "e57b9779",
   "metadata": {},
   "source": [
    "Cette fois-ci, testons le dataflow directement sur le cloud avec dataflowrunner(). Le code va donc se lancer depuis la VM et s'executer sur Dataflow."
   ]
  },
  {
   "cell_type": "code",
   "execution_count": 37,
   "id": "d92dab6c",
   "metadata": {},
   "outputs": [],
   "source": [
    "logging.getLogger().setLevel(logging.INFO)"
   ]
  },
  {
   "cell_type": "code",
   "execution_count": 38,
   "id": "ded8769e",
   "metadata": {},
   "outputs": [],
   "source": [
    "from setuptools import setup, find_packages"
   ]
  },
  {
   "cell_type": "code",
   "execution_count": 39,
   "id": "7dcc6f5e",
   "metadata": {},
   "outputs": [
    {
     "name": "stdout",
     "output_type": "stream",
     "text": [
      "Overwriting setup.py\n"
     ]
    }
   ],
   "source": [
    "%%writefile setup.py\n",
    "\n",
    "from setuptools import setup, find_packages\n",
    "\n",
    "setup(\n",
    "    name=\"dataflow_pipeline_dependencies\",\n",
    "    version=\"0.1\",\n",
    "    install_requires=[\n",
    "   'pandas==0.25.2',\n",
    "    ],\n",
    "    packages = find_packages()\n",
    ")"
   ]
  },
  {
   "cell_type": "code",
   "execution_count": 40,
   "id": "5979ec4a",
   "metadata": {},
   "outputs": [],
   "source": [
    "query = '''\n",
    "#standardSQL\n",
    "-- parse requests for Aggregator script (oracle_script_id = 3)\n",
    "WITH parsed_aggregator_oracle_requests AS (\n",
    "    SELECT ARRAY(\n",
    "        SELECT JSON_EXTRACT_SCALAR(symbol_as_json, '$')\n",
    "        FROM UNNEST(JSON_EXTRACT_ARRAY(decoded_result.calldata, \"$.symbols\")) AS symbol_as_json\n",
    "    ) AS symbols,\n",
    "    CAST(JSON_EXTRACT_SCALAR(decoded_result.calldata, \"$.multiplier\") AS FLOAT64) AS multiplier,\n",
    "    ARRAY(\n",
    "        SELECT CAST(JSON_EXTRACT_SCALAR(rate_as_json, '$') AS FLOAT64)\n",
    "        FROM UNNEST(JSON_EXTRACT_ARRAY(decoded_result.result, \"$.rates\")) AS rate_as_json\n",
    "    ) AS rates,\n",
    "    block_timestamp,\n",
    "    block_timestamp_truncated,\n",
    "    oracle_request_id,\n",
    "    FROM `public-data-finance.crypto_band.oracle_requests`\n",
    "    WHERE request.oracle_script_id = 3\n",
    "      AND decoded_result.calldata IS NOT NULL\n",
    "      AND decoded_result.result IS NOT NULL\n",
    "),\n",
    "-- zip symbols and rates\n",
    "zipped_rates AS (\n",
    "    SELECT block_timestamp,\n",
    "        block_timestamp_truncated,\n",
    "        oracle_request_id,\n",
    "        struct(symbol, rates[OFFSET(off)] AS rate) AS zipped,\n",
    "        multiplier,\n",
    "    FROM parsed_aggregator_oracle_requests,\n",
    "        UNNEST(symbols) AS symbol WITH OFFSET off\n",
    "    WHERE ARRAY_LENGTH(symbols) = ARRAY_LENGTH(rates)\n",
    "),\n",
    "-- adjust for multiplier\n",
    "adjusted_rates AS (\n",
    "    SELECT \n",
    "        block_timestamp,\n",
    "        block_timestamp_truncated,\n",
    "        oracle_request_id,\n",
    "        struct(zipped.symbol, CAST(IEEE_DIVIDE(zipped.rate, multiplier) AS STRING) AS rate) AS zipped, \n",
    "    FROM zipped_rates\n",
    ")\n",
    "SELECT \n",
    "    block_timestamp,\n",
    "    block_timestamp_truncated,\n",
    "    oracle_request_id,\n",
    "    zipped.symbol,\n",
    "    zipped.rate,\n",
    "FROM adjusted_rates\n",
    "--WHERE block_timestamp between '2021-05-20T00:00:00.000000000Z' AND '2021-06-01T00:00:00.000000000Z'\n",
    "WHERE block_timestamp < '2021-05-01T00:00:00.0000000000Z'\n",
    "ORDER BY block_timestamp DESC\n",
    "--LIMIT 1000 \n",
    "'''"
   ]
  },
  {
   "cell_type": "code",
   "execution_count": 41,
   "id": "fc779aa3",
   "metadata": {},
   "outputs": [],
   "source": [
    "pipeline_parameters = [\n",
    "    '--project', project,\n",
    "    '--staging_location', \"%s/staging_bq_notebook\" % bucket,\n",
    "    '--temp_location', \"%s/temp_bq_notebook\" % bucket,\n",
    "    \"--setup_file\", './setup.py', \n",
    "    \"--region\", \"us-central1\",\n",
    "]"
   ]
  },
  {
   "cell_type": "markdown",
   "id": "1f738a72",
   "metadata": {},
   "source": [
    "Activez l'API permettant d'executer des pipelines de données directement sur Dataflow (si cela n'est pas déjà fait)."
   ]
  },
  {
   "cell_type": "code",
   "execution_count": 42,
   "id": "3a324215",
   "metadata": {},
   "outputs": [],
   "source": [
    "!gcloud services enable dataflow.googleapis.com "
   ]
  },
  {
   "cell_type": "code",
   "execution_count": 43,
   "id": "24a65969",
   "metadata": {},
   "outputs": [
    {
     "name": "stderr",
     "output_type": "stream",
     "text": [
      "INFO:apache_beam.runners.portability.stager:Executing command: ['/root/apache-beam-2.25.0/bin/python', 'setup.py', 'sdist', '--dist-dir', '/tmp/tmpish3jm3o']\n",
      "INFO:apache_beam.runners.portability.stager:Downloading source distribution of the SDK from PyPi\n",
      "INFO:apache_beam.runners.portability.stager:Executing command: ['/root/apache-beam-2.25.0/bin/python', '-m', 'pip', 'download', '--dest', '/tmp/tmpish3jm3o', 'apache-beam==2.25.0', '--no-deps', '--no-binary', ':all:']\n",
      "INFO:apache_beam.runners.portability.stager:Staging SDK sources from PyPI: dataflow_python_sdk.tar\n",
      "INFO:apache_beam.runners.portability.stager:Downloading binary distribution of the SDK from PyPi\n",
      "INFO:apache_beam.runners.portability.stager:Executing command: ['/root/apache-beam-2.25.0/bin/python', '-m', 'pip', 'download', '--dest', '/tmp/tmpish3jm3o', 'apache-beam==2.25.0', '--no-deps', '--only-binary', ':all:', '--python-version', '37', '--implementation', 'cp', '--abi', 'cp37m', '--platform', 'manylinux1_x86_64']\n",
      "INFO:apache_beam.runners.portability.stager:Staging binary distribution of the SDK from PyPI: apache_beam-2.25.0-cp37-cp37m-manylinux1_x86_64.whl\n",
      "WARNING:root:Make sure that locally built Python SDK docker image has Python 3.7 interpreter.\n",
      "INFO:root:Using Python SDK docker image: apache/beam_python3.7_sdk:2.25.0. If the image is not available at local, we will try to pull from hub.docker.com\n",
      "INFO:apache_beam.runners.dataflow.internal.apiclient:Starting GCS upload to gs://temp_crypto_batch_bucket-beta/crypto_beta_test/staging_bq_notebook/beamapp-root-0807081720-792216.1628324240.792371/pipeline.pb...\n",
      "INFO:apache_beam.runners.dataflow.internal.apiclient:Completed GCS upload to gs://temp_crypto_batch_bucket-beta/crypto_beta_test/staging_bq_notebook/beamapp-root-0807081720-792216.1628324240.792371/pipeline.pb in 0 seconds.\n",
      "INFO:apache_beam.runners.dataflow.internal.apiclient:Starting GCS upload to gs://temp_crypto_batch_bucket-beta/crypto_beta_test/staging_bq_notebook/beamapp-root-0807081720-792216.1628324240.792371/workflow.tar.gz...\n",
      "INFO:apache_beam.runners.dataflow.internal.apiclient:Completed GCS upload to gs://temp_crypto_batch_bucket-beta/crypto_beta_test/staging_bq_notebook/beamapp-root-0807081720-792216.1628324240.792371/workflow.tar.gz in 0 seconds.\n",
      "INFO:apache_beam.runners.dataflow.internal.apiclient:Starting GCS upload to gs://temp_crypto_batch_bucket-beta/crypto_beta_test/staging_bq_notebook/beamapp-root-0807081720-792216.1628324240.792371/dataflow_python_sdk.tar...\n",
      "INFO:apache_beam.runners.dataflow.internal.apiclient:Completed GCS upload to gs://temp_crypto_batch_bucket-beta/crypto_beta_test/staging_bq_notebook/beamapp-root-0807081720-792216.1628324240.792371/dataflow_python_sdk.tar in 0 seconds.\n",
      "INFO:apache_beam.runners.dataflow.internal.apiclient:Starting GCS upload to gs://temp_crypto_batch_bucket-beta/crypto_beta_test/staging_bq_notebook/beamapp-root-0807081720-792216.1628324240.792371/apache_beam-2.25.0-cp37-cp37m-manylinux1_x86_64.whl...\n",
      "INFO:apache_beam.runners.dataflow.internal.apiclient:Completed GCS upload to gs://temp_crypto_batch_bucket-beta/crypto_beta_test/staging_bq_notebook/beamapp-root-0807081720-792216.1628324240.792371/apache_beam-2.25.0-cp37-cp37m-manylinux1_x86_64.whl in 0 seconds.\n",
      "INFO:apache_beam.runners.dataflow.internal.apiclient:Create job: <Job\n",
      " createTime: '2021-08-07T08:17:24.821572Z'\n",
      " currentStateTime: '1970-01-01T00:00:00Z'\n",
      " id: '2021-08-07_01_17_23-14499271834719554261'\n",
      " location: 'us-central1'\n",
      " name: 'beamapp-root-0807081720-792216'\n",
      " projectId: 'crypto-beta-test'\n",
      " stageStates: []\n",
      " startTime: '2021-08-07T08:17:24.821572Z'\n",
      " steps: []\n",
      " tempFiles: []\n",
      " type: TypeValueValuesEnum(JOB_TYPE_BATCH, 1)>\n",
      "INFO:apache_beam.runners.dataflow.internal.apiclient:Created job with id: [2021-08-07_01_17_23-14499271834719554261]\n",
      "INFO:apache_beam.runners.dataflow.internal.apiclient:Submitted job: 2021-08-07_01_17_23-14499271834719554261\n",
      "INFO:apache_beam.runners.dataflow.internal.apiclient:To access the Dataflow monitoring console, please navigate to https://console.cloud.google.com/dataflow/jobs/us-central1/2021-08-07_01_17_23-14499271834719554261?project=crypto-beta-test\n"
     ]
    },
    {
     "data": {
      "text/plain": [
       "<DataflowPipelineResult <Job\n",
       " createTime: '2021-08-07T08:17:24.821572Z'\n",
       " currentStateTime: '1970-01-01T00:00:00Z'\n",
       " id: '2021-08-07_01_17_23-14499271834719554261'\n",
       " location: 'us-central1'\n",
       " name: 'beamapp-root-0807081720-792216'\n",
       " projectId: 'crypto-beta-test'\n",
       " stageStates: []\n",
       " startTime: '2021-08-07T08:17:24.821572Z'\n",
       " steps: []\n",
       " tempFiles: []\n",
       " type: TypeValueValuesEnum(JOB_TYPE_BATCH, 1)> at 0x7f8fca096ed0>"
      ]
     },
     "execution_count": 43,
     "metadata": {},
     "output_type": "execute_result"
    }
   ],
   "source": [
    "class KeepDoFn(beam.DoFn):\n",
    "    def process(self, element):\n",
    "        import pandas \n",
    "        \n",
    "        return [{\n",
    "            'timestamp': element['block_timestamp_truncated'],\n",
    "            'request': str(element['oracle_request_id']),\n",
    "            'symbol' : element['symbol'],\n",
    "            'rate' : element['rate'], \n",
    "            'date_str' : pandas.to_datetime(element['block_timestamp'], format='%Y-%m-%dT%H:%M:%S.%fZ').strftime(\"%Y%m%d%H%M%S\")\n",
    "    }]\n",
    "    \n",
    "table = \"{}:temp_crypto_batch.batch_timestamp\".format(project)\n",
    "schema = \"timestamp:TIMESTAMP, request:STRING, symbol:STRING, rate:FLOAT, date_str:STRING\"\n",
    "\n",
    "p = beam.Pipeline(\"DataFlowRunner\", argv=pipeline_parameters)\n",
    "create = (p | \"Create\" >>  beam.io.ReadFromBigQuery(query=query,use_standard_sql=True)\n",
    "            | \"Map Keys\" >> beam.ParDo(KeepDoFn())\n",
    "            | \"Write To BigQuery\" >> WriteToBigQuery(table=table, schema=schema,\n",
    "                                  create_disposition=BigQueryDisposition.CREATE_IF_NEEDED,\n",
    "                                  write_disposition=BigQueryDisposition.WRITE_APPEND))\n",
    "\n",
    "p.run()"
   ]
  },
  {
   "cell_type": "markdown",
   "id": "af33d451",
   "metadata": {},
   "source": [
    "Dans les warning ci-dessus, on peut visualiser directement l'execution de la pipeline de données sur dataflow. <br>\n",
    "NB : Si la première execution échoue (création d'un nouveau compte), relancer le dataflow une deuxième fois (cela est surement dû à un retard de mise à jour des droits), cela devrait fonctionner la deuxième fois (car nous avons activé l'API de Dataflow précédemment)"
   ]
  },
  {
   "cell_type": "markdown",
   "id": "f960ee26",
   "metadata": {},
   "source": [
    "Une fois l'exécution terminée, de la même manière qu'avec interactive runner en locale sur la VM, on peut visualiser que l'insertion s'est bien effectuée correctement en effectuant une requête à bigquery depuis ce notebook"
   ]
  },
  {
   "cell_type": "code",
   "execution_count": 46,
   "id": "0dbb76f1",
   "metadata": {},
   "outputs": [],
   "source": [
    "query = '''\n",
    "SELECT *  FROM `temp_crypto_batch.batch_timestamp` LIMIT 10\n",
    "'''"
   ]
  },
  {
   "cell_type": "code",
   "execution_count": 47,
   "id": "84e12e54",
   "metadata": {},
   "outputs": [
    {
     "name": "stderr",
     "output_type": "stream",
     "text": [
      "/root/apache-beam-2.25.0/lib/python3.7/site-packages/google/cloud/bigquery/client.py:407: UserWarning: Cannot create BigQuery Storage client, the dependency google-cloud-bigquery-storage is not installed.\n",
      "  \"Cannot create BigQuery Storage client, the dependency \"\n"
     ]
    },
    {
     "data": {
      "text/html": [
       "<div>\n",
       "<style scoped>\n",
       "    .dataframe tbody tr th:only-of-type {\n",
       "        vertical-align: middle;\n",
       "    }\n",
       "\n",
       "    .dataframe tbody tr th {\n",
       "        vertical-align: top;\n",
       "    }\n",
       "\n",
       "    .dataframe thead th {\n",
       "        text-align: right;\n",
       "    }\n",
       "</style>\n",
       "<table border=\"1\" class=\"dataframe\">\n",
       "  <thead>\n",
       "    <tr style=\"text-align: right;\">\n",
       "      <th></th>\n",
       "      <th>timestamp</th>\n",
       "      <th>request</th>\n",
       "      <th>symbol</th>\n",
       "      <th>rate</th>\n",
       "      <th>date_str</th>\n",
       "    </tr>\n",
       "  </thead>\n",
       "  <tbody>\n",
       "    <tr>\n",
       "      <th>0</th>\n",
       "      <td>2021-04-24 21:39:20.187837+00:00</td>\n",
       "      <td>4153686</td>\n",
       "      <td>ETH</td>\n",
       "      <td>2286.808050</td>\n",
       "      <td>20210424213920</td>\n",
       "    </tr>\n",
       "    <tr>\n",
       "      <th>1</th>\n",
       "      <td>2021-04-24 21:39:02.986974+00:00</td>\n",
       "      <td>4153676</td>\n",
       "      <td>ETH</td>\n",
       "      <td>2286.435400</td>\n",
       "      <td>20210424213902</td>\n",
       "    </tr>\n",
       "    <tr>\n",
       "      <th>2</th>\n",
       "      <td>2021-04-24 21:38:33.330373+00:00</td>\n",
       "      <td>4153655</td>\n",
       "      <td>BNB</td>\n",
       "      <td>508.331150</td>\n",
       "      <td>20210424213833</td>\n",
       "    </tr>\n",
       "    <tr>\n",
       "      <th>3</th>\n",
       "      <td>2021-04-24 21:38:19.663021+00:00</td>\n",
       "      <td>4153651</td>\n",
       "      <td>ATOM</td>\n",
       "      <td>18.990000</td>\n",
       "      <td>20210424213819</td>\n",
       "    </tr>\n",
       "    <tr>\n",
       "      <th>4</th>\n",
       "      <td>2021-04-24 21:37:28.756977+00:00</td>\n",
       "      <td>4153621</td>\n",
       "      <td>SUSD</td>\n",
       "      <td>1.020000</td>\n",
       "      <td>20210424213728</td>\n",
       "    </tr>\n",
       "    <tr>\n",
       "      <th>5</th>\n",
       "      <td>2021-04-24 21:36:03.333411+00:00</td>\n",
       "      <td>4153575</td>\n",
       "      <td>AAVE</td>\n",
       "      <td>327.425500</td>\n",
       "      <td>20210424213603</td>\n",
       "    </tr>\n",
       "    <tr>\n",
       "      <th>6</th>\n",
       "      <td>2021-04-24 21:36:03.333411+00:00</td>\n",
       "      <td>4153575</td>\n",
       "      <td>ZRX</td>\n",
       "      <td>1.361614</td>\n",
       "      <td>20210424213603</td>\n",
       "    </tr>\n",
       "    <tr>\n",
       "      <th>7</th>\n",
       "      <td>2021-04-24 21:36:00.657166+00:00</td>\n",
       "      <td>4153573</td>\n",
       "      <td>OGN</td>\n",
       "      <td>1.520000</td>\n",
       "      <td>20210424213600</td>\n",
       "    </tr>\n",
       "    <tr>\n",
       "      <th>8</th>\n",
       "      <td>2021-04-24 21:34:57.208747+00:00</td>\n",
       "      <td>4153538</td>\n",
       "      <td>LINK</td>\n",
       "      <td>32.376400</td>\n",
       "      <td>20210424213457</td>\n",
       "    </tr>\n",
       "    <tr>\n",
       "      <th>9</th>\n",
       "      <td>2021-04-24 21:34:52.539335+00:00</td>\n",
       "      <td>4153535</td>\n",
       "      <td>OMG</td>\n",
       "      <td>6.210000</td>\n",
       "      <td>20210424213452</td>\n",
       "    </tr>\n",
       "  </tbody>\n",
       "</table>\n",
       "</div>"
      ],
      "text/plain": [
       "                         timestamp  request symbol         rate  \\\n",
       "0 2021-04-24 21:39:20.187837+00:00  4153686    ETH  2286.808050   \n",
       "1 2021-04-24 21:39:02.986974+00:00  4153676    ETH  2286.435400   \n",
       "2 2021-04-24 21:38:33.330373+00:00  4153655    BNB   508.331150   \n",
       "3 2021-04-24 21:38:19.663021+00:00  4153651   ATOM    18.990000   \n",
       "4 2021-04-24 21:37:28.756977+00:00  4153621   SUSD     1.020000   \n",
       "5 2021-04-24 21:36:03.333411+00:00  4153575   AAVE   327.425500   \n",
       "6 2021-04-24 21:36:03.333411+00:00  4153575    ZRX     1.361614   \n",
       "7 2021-04-24 21:36:00.657166+00:00  4153573    OGN     1.520000   \n",
       "8 2021-04-24 21:34:57.208747+00:00  4153538   LINK    32.376400   \n",
       "9 2021-04-24 21:34:52.539335+00:00  4153535    OMG     6.210000   \n",
       "\n",
       "         date_str  \n",
       "0  20210424213920  \n",
       "1  20210424213902  \n",
       "2  20210424213833  \n",
       "3  20210424213819  \n",
       "4  20210424213728  \n",
       "5  20210424213603  \n",
       "6  20210424213603  \n",
       "7  20210424213600  \n",
       "8  20210424213457  \n",
       "9  20210424213452  "
      ]
     },
     "execution_count": 47,
     "metadata": {},
     "output_type": "execute_result"
    }
   ],
   "source": [
    "client = bigquery.Client() \n",
    "query_df = client.query(query).result().to_dataframe()\n",
    "query_df"
   ]
  },
  {
   "cell_type": "markdown",
   "id": "f7e07385",
   "metadata": {},
   "source": [
    "Cette étape terminée, il est possible :\n",
    "- De visualiser ces données à travers datastudio \n",
    "- De s'occuper de la partie streaming de l'architecture\n",
    "- D'identifier les valeurs manquantes ou aberrantes et d'effectuer de l'interpolation pour préparer les données à être utilisé dans un modèle d'apprentissage dans le but d'effectuer de la prédiction ou de la détection d'anomalies"
   ]
  }
 ],
 "metadata": {
  "kernelspec": {
   "display_name": "7. Apache Beam 2.25.0 for Python 3",
   "language": "python",
   "name": "7-apache-beam-2.25.0"
  },
  "language_info": {
   "codemirror_mode": {
    "name": "ipython",
    "version": 3
   },
   "file_extension": ".py",
   "mimetype": "text/x-python",
   "name": "python",
   "nbconvert_exporter": "python",
   "pygments_lexer": "ipython3",
   "version": "3.7.10"
  }
 },
 "nbformat": 4,
 "nbformat_minor": 5
}
