{
 "cells": [
  {
   "cell_type": "code",
   "execution_count": 3,
   "id": "a42d5643",
   "metadata": {},
   "outputs": [
    {
     "name": "stdout",
     "output_type": "stream",
     "text": [
      "absl-py==0.13.0\n",
      "# Editable install with no version control (apache-beam==2.25.0)\n",
      "-e /root/apache-beam-2.25.0/packages/beam/sdks/python\n",
      "argon2-cffi==20.1.0\n",
      "astunparse==1.6.3\n",
      "async-generator==1.10\n",
      "attrs==21.2.0\n",
      "avro-python3==1.8.2\n",
      "backcall==0.2.0\n",
      "bleach==3.3.0\n",
      "cachetools==4.2.2\n",
      "certifi==2021.5.30\n",
      "cffi==1.14.5\n",
      "chardet==4.0.0\n",
      "crcmod==1.7\n",
      "cycler==0.10.0\n",
      "Cython==0.29.13\n",
      "decorator==5.0.9\n",
      "defusedxml==0.7.1\n",
      "dill==0.3.1.1\n",
      "docopt==0.6.2\n",
      "entrypoints==0.3\n",
      "facets-overview==1.0.0\n",
      "fastavro==1.0.0.post1\n",
      "fasteners==0.16.3\n",
      "future==0.18.2\n",
      "gast==0.3.3\n",
      "google-api-core==1.22.0\n",
      "google-api-python-client==2.3.0\n",
      "google-apitools==0.5.31\n",
      "google-auth==1.31.0\n",
      "google-auth-httplib2==0.1.0\n",
      "google-auth-oauthlib==0.4.4\n",
      "google-cloud-bigquery==1.26.1\n",
      "google-cloud-bigtable==1.0.0\n",
      "google-cloud-build==2.0.0\n",
      "google-cloud-core==1.4.1\n",
      "google-cloud-datastore==1.7.4\n",
      "google-cloud-dlp==1.0.0\n",
      "google-cloud-language==1.3.0\n",
      "google-cloud-pubsub==1.0.2\n",
      "google-cloud-spanner==1.19.1\n",
      "google-cloud-videointelligence==1.16.1\n",
      "google-cloud-vision==1.0.0\n",
      "google-crc32c==1.1.2\n",
      "google-pasta==0.2.0\n",
      "google-resumable-media==1.3.0\n",
      "googleapis-common-protos==1.53.0\n",
      "grpc-google-iam-v1==0.12.3\n",
      "grpcio==1.38.0\n",
      "grpcio-gcp==0.2.2\n",
      "guppy3==3.0.9\n",
      "h5py==2.10.0\n",
      "hdfs==2.5.8\n",
      "httplib2==0.17.4\n",
      "idna==2.10\n",
      "importlib-metadata==4.5.0\n",
      "ipykernel==5.5.5\n",
      "ipython==7.24.1\n",
      "ipython-genutils==0.2.0\n",
      "ipywidgets==7.6.3\n",
      "jedi==0.18.0\n",
      "Jinja2==3.0.1\n",
      "jsonschema==3.2.0\n",
      "jupyter-client==6.1.12\n",
      "jupyter-core==4.7.1\n",
      "jupyterlab-pygments==0.1.2\n",
      "jupyterlab-widgets==1.0.0\n",
      "Keras-Preprocessing==1.1.2\n",
      "kiwisolver==1.3.1\n",
      "libcst==0.3.19\n",
      "Markdown==3.3.4\n",
      "MarkupSafe==2.0.1\n",
      "matplotlib==3.4.2\n",
      "matplotlib-inline==0.1.2\n",
      "mistune==0.8.4\n",
      "mmh3==2.5.1\n",
      "mock==2.0.0\n",
      "mypy-extensions==0.4.3\n",
      "nbclient==0.5.3\n",
      "nbconvert==6.0.7\n",
      "nbformat==5.1.3\n",
      "nest-asyncio==1.5.1\n",
      "nose==1.3.7\n",
      "notebook==6.4.0\n",
      "numpy==1.17.3\n",
      "oauth2client==4.1.3\n",
      "oauthlib==3.1.1\n",
      "opt-einsum==3.3.0\n",
      "packaging==20.9\n",
      "pandas==0.25.2\n",
      "pandocfilters==1.4.3\n",
      "parso==0.8.2\n",
      "pbr==5.6.0\n",
      "pexpect==4.8.0\n",
      "pickleshare==0.7.5\n",
      "Pillow==8.2.0\n",
      "prometheus-client==0.11.0\n",
      "prompt-toolkit==3.0.18\n",
      "proto-plus==1.18.1\n",
      "protobuf==3.12.2\n",
      "protorpc==0.12.0\n",
      "ptyprocess==0.7.0\n",
      "pyarrow==0.16.0\n",
      "pyasn1==0.4.8\n",
      "pyasn1-modules==0.2.8\n",
      "pycparser==2.20\n",
      "pydot==1.4.1\n",
      "Pygments==2.9.0\n",
      "PyHamcrest==1.10.1\n",
      "pymongo==3.9.0\n",
      "pyparsing==2.4.7\n",
      "pyrsistent==0.17.3\n",
      "python-dateutil==2.8.1\n",
      "python-gflags==3.0.6\n",
      "pytz==2019.3\n",
      "PyYAML==5.4.1\n",
      "pyzmq==22.1.0\n",
      "requests==2.25.1\n",
      "requests-oauthlib==1.3.0\n",
      "rsa==4.7.2\n",
      "scipy==1.4.1\n",
      "Send2Trash==1.5.0\n",
      "six==1.16.0\n",
      "sql==0.4.0\n",
      "tenacity==7.0.0\n",
      "tensorboard==2.5.0\n",
      "tensorboard-data-server==0.6.1\n",
      "tensorboard-plugin-wit==1.8.0\n",
      "tensorflow==2.3.0\n",
      "tensorflow-estimator==2.3.0\n",
      "termcolor==1.1.0\n",
      "terminado==0.10.1\n",
      "testpath==0.5.0\n",
      "timeloop==1.0.2\n",
      "tornado==6.1\n",
      "traitlets==5.0.5\n",
      "typing-extensions==3.7.4.3\n",
      "typing-inspect==0.7.1\n",
      "uritemplate==3.0.1\n",
      "urllib3==1.26.5\n",
      "wcwidth==0.2.5\n",
      "webencodings==0.5.1\n",
      "Werkzeug==2.0.1\n",
      "widgetsnbextension==3.5.1\n",
      "wrapt==1.12.1\n",
      "zipp==3.4.1\n",
      "Note: you may need to restart the kernel to use updated packages.\n"
     ]
    }
   ],
   "source": [
    "pip freeze"
   ]
  },
  {
   "cell_type": "code",
   "execution_count": 44,
   "id": "b6399e90",
   "metadata": {},
   "outputs": [
    {
     "name": "stdout",
     "output_type": "stream",
     "text": [
      "Collecting httplib2==0.17.4\n",
      "  Using cached httplib2-0.17.4-py3-none-any.whl (95 kB)\n",
      "Installing collected packages: httplib2\n",
      "  Attempting uninstall: httplib2\n",
      "    Found existing installation: httplib2 0.12.0\n",
      "    Uninstalling httplib2-0.12.0:\n",
      "      Successfully uninstalled httplib2-0.12.0\n",
      "Successfully installed httplib2-0.17.4\n",
      "\u001b[33mWARNING: You are using pip version 20.1.1; however, version 21.1.3 is available.\n",
      "You should consider upgrading via the '/root/apache-beam-2.25.0/bin/python -m pip install --upgrade pip' command.\u001b[0m\n",
      "Note: you may need to restart the kernel to use updated packages.\n"
     ]
    }
   ],
   "source": [
    "pip install httplib2==0.17.4"
   ]
  },
  {
   "cell_type": "code",
   "execution_count": 45,
   "id": "86192a9f",
   "metadata": {},
   "outputs": [
    {
     "name": "stdout",
     "output_type": "stream",
     "text": [
      "Requirement already satisfied: google-api-python-client==2.3.0 in /root/apache-beam-2.25.0/lib/python3.7/site-packages (2.3.0)\n",
      "Requirement already satisfied: google-api-core<2dev,>=1.21.0 in /root/apache-beam-2.25.0/lib/python3.7/site-packages (from google-api-python-client==2.3.0) (1.22.0)\n",
      "Requirement already satisfied: httplib2<1dev,>=0.15.0 in /root/apache-beam-2.25.0/lib/python3.7/site-packages (from google-api-python-client==2.3.0) (0.17.4)\n",
      "Requirement already satisfied: google-auth-httplib2>=0.1.0 in /root/apache-beam-2.25.0/lib/python3.7/site-packages (from google-api-python-client==2.3.0) (0.1.0)\n",
      "Requirement already satisfied: uritemplate<4dev,>=3.0.0 in /root/apache-beam-2.25.0/lib/python3.7/site-packages (from google-api-python-client==2.3.0) (3.0.1)\n",
      "Requirement already satisfied: six<2dev,>=1.13.0 in /root/apache-beam-2.25.0/lib/python3.7/site-packages (from google-api-python-client==2.3.0) (1.16.0)\n",
      "Requirement already satisfied: google-auth<2dev,>=1.16.0 in /root/apache-beam-2.25.0/lib/python3.7/site-packages (from google-api-python-client==2.3.0) (1.31.0)\n",
      "Requirement already satisfied: protobuf>=3.12.0 in /root/apache-beam-2.25.0/lib/python3.7/site-packages (from google-api-core<2dev,>=1.21.0->google-api-python-client==2.3.0) (3.12.2)\n",
      "Requirement already satisfied: googleapis-common-protos<2.0dev,>=1.6.0 in /root/apache-beam-2.25.0/lib/python3.7/site-packages (from google-api-core<2dev,>=1.21.0->google-api-python-client==2.3.0) (1.53.0)\n",
      "Requirement already satisfied: pytz in /root/apache-beam-2.25.0/lib/python3.7/site-packages (from google-api-core<2dev,>=1.21.0->google-api-python-client==2.3.0) (2019.3)\n",
      "Requirement already satisfied: requests<3.0.0dev,>=2.18.0 in /root/apache-beam-2.25.0/lib/python3.7/site-packages (from google-api-core<2dev,>=1.21.0->google-api-python-client==2.3.0) (2.25.1)\n",
      "Requirement already satisfied: setuptools>=34.0.0 in /root/apache-beam-2.25.0/lib/python3.7/site-packages (from google-api-core<2dev,>=1.21.0->google-api-python-client==2.3.0) (57.0.0)\n",
      "Requirement already satisfied: cachetools<5.0,>=2.0.0 in /root/apache-beam-2.25.0/lib/python3.7/site-packages (from google-auth<2dev,>=1.16.0->google-api-python-client==2.3.0) (4.2.2)\n",
      "Requirement already satisfied: rsa<5,>=3.1.4; python_version >= \"3.6\" in /root/apache-beam-2.25.0/lib/python3.7/site-packages (from google-auth<2dev,>=1.16.0->google-api-python-client==2.3.0) (4.7.2)\n",
      "Requirement already satisfied: pyasn1-modules>=0.2.1 in /root/apache-beam-2.25.0/lib/python3.7/site-packages (from google-auth<2dev,>=1.16.0->google-api-python-client==2.3.0) (0.2.8)\n",
      "Requirement already satisfied: certifi>=2017.4.17 in /root/apache-beam-2.25.0/lib/python3.7/site-packages (from requests<3.0.0dev,>=2.18.0->google-api-core<2dev,>=1.21.0->google-api-python-client==2.3.0) (2021.5.30)\n",
      "Requirement already satisfied: idna<3,>=2.5 in /root/apache-beam-2.25.0/lib/python3.7/site-packages (from requests<3.0.0dev,>=2.18.0->google-api-core<2dev,>=1.21.0->google-api-python-client==2.3.0) (2.10)\n",
      "Requirement already satisfied: urllib3<1.27,>=1.21.1 in /root/apache-beam-2.25.0/lib/python3.7/site-packages (from requests<3.0.0dev,>=2.18.0->google-api-core<2dev,>=1.21.0->google-api-python-client==2.3.0) (1.26.5)\n",
      "Requirement already satisfied: chardet<5,>=3.0.2 in /root/apache-beam-2.25.0/lib/python3.7/site-packages (from requests<3.0.0dev,>=2.18.0->google-api-core<2dev,>=1.21.0->google-api-python-client==2.3.0) (4.0.0)\n",
      "Requirement already satisfied: pyasn1>=0.1.3 in /root/apache-beam-2.25.0/lib/python3.7/site-packages (from rsa<5,>=3.1.4; python_version >= \"3.6\"->google-auth<2dev,>=1.16.0->google-api-python-client==2.3.0) (0.4.8)\n",
      "\u001b[33mWARNING: You are using pip version 20.1.1; however, version 21.1.3 is available.\n",
      "You should consider upgrading via the '/root/apache-beam-2.25.0/bin/python -m pip install --upgrade pip' command.\u001b[0m\n",
      "Note: you may need to restart the kernel to use updated packages.\n"
     ]
    }
   ],
   "source": [
    "pip install google-api-python-client==2.3.0"
   ]
  },
  {
   "cell_type": "code",
   "execution_count": null,
   "id": "0e8c5a35",
   "metadata": {},
   "outputs": [],
   "source": [
    "#rajouter la création des ressources dans la fonction "
   ]
  },
  {
   "cell_type": "code",
   "execution_count": 28,
   "id": "f5f6f272",
   "metadata": {},
   "outputs": [],
   "source": [
    "from datetime import datetime\n",
    "now = datetime.now()"
   ]
  },
  {
   "cell_type": "code",
   "execution_count": 16,
   "id": "62f2e00a",
   "metadata": {},
   "outputs": [
    {
     "data": {
      "text/plain": [
       "'150720211438'"
      ]
     },
     "execution_count": 16,
     "metadata": {},
     "output_type": "execute_result"
    }
   ],
   "source": [
    "now.strftime(\"%d%m%Y%H%M%\")"
   ]
  },
  {
   "cell_type": "code",
   "execution_count": 29,
   "id": "92756856",
   "metadata": {},
   "outputs": [
    {
     "data": {
      "text/plain": [
       "'adept-odyssey-314211'"
      ]
     },
     "execution_count": 29,
     "metadata": {},
     "output_type": "execute_result"
    }
   ],
   "source": [
    "import google.auth\n",
    "google.auth.default()[1]"
   ]
  },
  {
   "cell_type": "code",
   "execution_count": 30,
   "id": "d06c1713",
   "metadata": {},
   "outputs": [
    {
     "data": {
      "text/plain": [
       "'projects/adept-odyssey-314211/topics/bigquery-to-pubsub-test0'"
      ]
     },
     "execution_count": 30,
     "metadata": {},
     "output_type": "execute_result"
    }
   ],
   "source": [
    "project_topic_path = 'projects/' + google.auth.default()[1] + '/topics/bigquery-to-pubsub-test0'\n",
    "project_topic_path"
   ]
  },
  {
   "cell_type": "code",
   "execution_count": 31,
   "id": "5be6a9d4",
   "metadata": {},
   "outputs": [
    {
     "data": {
      "text/plain": [
       "'adept_odyssey_314211_bigquery_to_pubsub_temp'"
      ]
     },
     "execution_count": 31,
     "metadata": {},
     "output_type": "execute_result"
    }
   ],
   "source": [
    "temp_resource_name = google.auth.default()[1].replace(\"-\", \"_\") + '_bigquery_to_pubsub_temp'\n",
    "temp_resource_name"
   ]
  },
  {
   "cell_type": "code",
   "execution_count": 32,
   "id": "3ef1b400",
   "metadata": {},
   "outputs": [],
   "source": [
    "job_name = 'auto_streaming_with_ai_platform' + now.strftime(\"%d%m%Y%H%M\")"
   ]
  },
  {
   "cell_type": "code",
   "execution_count": 33,
   "id": "523a2b58",
   "metadata": {},
   "outputs": [],
   "source": [
    "training_inputs = {\n",
    "    'region': 'us-central1',\n",
    "    'masterConfig': {\n",
    "      \"imageUri\": \"gcr.io/adept-odyssey-314211/bigquery-to-pubsub@sha256:bb6af4c9a0fd07232bd49c01a82380e0bd9744f6d51b6f0028e13a090169d144\"\n",
    "     }, \n",
    "    'args': ['--bigquery-table', 'public-data-finance.crypto_band.oracle_requests', \n",
    "             '--timestamp-field', 'block_timestamp_truncated',\n",
    "             '--start-timestamp', '2021-05-23T05:40:00', \n",
    "             '--end-timestamp', '2021-05-23T05:41:00', \n",
    "             '--batch-size-in-seconds', '3600', \n",
    "             '--replay-rate', '1', \n",
    "             '--pubsub-topic', project_topic_path, \n",
    "             '--temp-bigquery-dataset', temp_resource_name,\n",
    "             '--temp-bucket', temp_resource_name\n",
    "            ]\n",
    "}\n",
    "\n",
    "job_spec = {'jobId': job_name, 'trainingInput': training_inputs}"
   ]
  },
  {
   "cell_type": "code",
   "execution_count": 34,
   "id": "59fd76eb",
   "metadata": {},
   "outputs": [
    {
     "data": {
      "text/plain": [
       "'projects/adept-odyssey-314211'"
      ]
     },
     "execution_count": 34,
     "metadata": {},
     "output_type": "execute_result"
    }
   ],
   "source": [
    "project_id = 'projects/{}'.format(google.auth.default()[1])\n",
    "project_id"
   ]
  },
  {
   "cell_type": "code",
   "execution_count": 35,
   "id": "b8739b65",
   "metadata": {},
   "outputs": [],
   "source": [
    "import logging\n",
    "from googleapiclient.discovery import build"
   ]
  },
  {
   "cell_type": "code",
   "execution_count": 36,
   "id": "d78855d7",
   "metadata": {},
   "outputs": [],
   "source": [
    "credentials, _ = google.auth.default()"
   ]
  },
  {
   "cell_type": "code",
   "execution_count": 37,
   "id": "0d9124db",
   "metadata": {},
   "outputs": [],
   "source": [
    "cloudml = build('ml', 'v1', credentials=credentials)\n",
    "request = cloudml.projects().jobs().create(body=job_spec,\n",
    "              parent=project_id)"
   ]
  },
  {
   "cell_type": "code",
   "execution_count": 38,
   "id": "30b0a438",
   "metadata": {},
   "outputs": [],
   "source": [
    "response = request.execute()\n",
    "logging.info(f'response status: {response}')"
   ]
  },
  {
   "cell_type": "code",
   "execution_count": null,
   "id": "5cce9b25",
   "metadata": {},
   "outputs": [],
   "source": []
  },
  {
   "cell_type": "code",
   "execution_count": null,
   "id": "13061171",
   "metadata": {},
   "outputs": [],
   "source": [
    "####################################################"
   ]
  },
  {
   "cell_type": "code",
   "execution_count": null,
   "id": "d3ece4c0",
   "metadata": {},
   "outputs": [],
   "source": [
    "from google.cloud import bigquery\n",
    "from google.api_core.exceptions import BadRequest\n",
    "\n",
    "query = '''\n",
    "select max(timestamp)\n",
    "from \n",
    "test_crypto_batch.test_crypto_streaming_11\n",
    "'''\n",
    "\n",
    "# Construct a BigQuery client object.\n",
    "client = bigquery.Client() \n",
    "\n",
    "job_config = bigquery.QueryJobConfig()\n",
    "query_df = client.query(query, job_config=job_config).result().to_dataframe()"
   ]
  },
  {
   "cell_type": "code",
   "execution_count": 3,
   "id": "a6e9e86f",
   "metadata": {},
   "outputs": [],
   "source": [
    "from google.cloud import bigquery\n",
    "from google.api_core.exceptions import BadRequest"
   ]
  },
  {
   "cell_type": "code",
   "execution_count": 11,
   "id": "f1ce68c4",
   "metadata": {},
   "outputs": [],
   "source": [
    "query = '''\n",
    "select max(timestamp)\n",
    "from \n",
    "test_crypto_batch.test_crypto_streaming_11\n",
    "'''"
   ]
  },
  {
   "cell_type": "code",
   "execution_count": 12,
   "id": "33265822",
   "metadata": {},
   "outputs": [],
   "source": [
    "# Construct a BigQuery client object.\n",
    "client = bigquery.Client() "
   ]
  },
  {
   "cell_type": "code",
   "execution_count": 13,
   "id": "1c1ef6e9",
   "metadata": {},
   "outputs": [
    {
     "name": "stderr",
     "output_type": "stream",
     "text": [
      "/root/apache-beam-2.25.0/lib/python3.7/site-packages/google/cloud/bigquery/client.py:407: UserWarning: Cannot create BigQuery Storage client, the dependency google-cloud-bigquery-storage is not installed.\n",
      "  \"Cannot create BigQuery Storage client, the dependency \"\n"
     ]
    }
   ],
   "source": [
    "job_config = bigquery.QueryJobConfig()\n",
    "query_df = client.query(query, job_config=job_config).result().to_dataframe()"
   ]
  },
  {
   "cell_type": "code",
   "execution_count": 22,
   "id": "408e9bed",
   "metadata": {},
   "outputs": [],
   "source": [
    "import datetime as dt\n",
    "def round_up_to_minute(timestamp):\n",
    "    return timestamp + dt.timedelta(\n",
    "        seconds=60-timestamp.second,\n",
    "        microseconds=-timestamp.microsecond)"
   ]
  },
  {
   "cell_type": "code",
   "execution_count": 45,
   "id": "787fa778",
   "metadata": {},
   "outputs": [],
   "source": [
    "def round_up_to_2_minutes(timestamp):\n",
    "    return timestamp + dt.timedelta(\n",
    "        seconds=120-timestamp.second,\n",
    "        microseconds=-timestamp.microsecond)"
   ]
  },
  {
   "cell_type": "code",
   "execution_count": 24,
   "id": "32b9aa37",
   "metadata": {},
   "outputs": [
    {
     "data": {
      "text/plain": [
       "Timestamp('2021-05-23 05:40:54.044607+0000', tz='UTC')"
      ]
     },
     "execution_count": 24,
     "metadata": {},
     "output_type": "execute_result"
    }
   ],
   "source": [
    "query_df.values[0][0]"
   ]
  },
  {
   "cell_type": "code",
   "execution_count": 40,
   "id": "a37a51b4",
   "metadata": {},
   "outputs": [
    {
     "data": {
      "text/plain": [
       "'2021-05-23 05:41:00+00:00'"
      ]
     },
     "execution_count": 40,
     "metadata": {},
     "output_type": "execute_result"
    }
   ],
   "source": [
    "str(round_up_to_minute(query_df.values[0][0]))"
   ]
  },
  {
   "cell_type": "code",
   "execution_count": 46,
   "id": "4aa0f7a7",
   "metadata": {},
   "outputs": [
    {
     "data": {
      "text/plain": [
       "'2021-05-23T05:42:00'"
      ]
     },
     "execution_count": 46,
     "metadata": {},
     "output_type": "execute_result"
    }
   ],
   "source": [
    "round_up_to_2_minutes(query_df.values[0][0]).strftime('%Y-%m-%dT%H:%M:%S')"
   ]
  },
  {
   "cell_type": "code",
   "execution_count": null,
   "id": "c1598917",
   "metadata": {},
   "outputs": [],
   "source": [
    "###################################################"
   ]
  },
  {
   "cell_type": "code",
   "execution_count": 1,
   "id": "6483d0c2",
   "metadata": {},
   "outputs": [],
   "source": [
    "import logging\n",
    "import google.auth\n",
    "from googleapiclient.discovery import build\n",
    "from datetime import datetime\n",
    "import datetime as dt\n",
    "from google.cloud import bigquery\n",
    "from google.api_core.exceptions import BadRequest\n",
    "\n",
    "#start_timestamp\n",
    "def round_up_to_minute(timestamp):\n",
    "    return timestamp + dt.timedelta(\n",
    "        seconds=60-timestamp.second,\n",
    "        microseconds=-timestamp.microsecond)\n",
    "\n",
    "#end_timestamp\n",
    "def round_up_to_2_minutes(timestamp):\n",
    "    return timestamp + dt.timedelta(\n",
    "        seconds=120-timestamp.second,\n",
    "        microseconds=-timestamp.microsecond)\n",
    "\n",
    "def hello_pubsub(event=None, context=None):\n",
    "    \n",
    "    query = '''\n",
    "                select max(timestamp)\n",
    "                from \n",
    "                test_crypto_batch.test_crypto_streaming_11\n",
    "            '''\n",
    "\n",
    "    # Construct a BigQuery client object.\n",
    "    client = bigquery.Client() \n",
    "\n",
    "    job_config = bigquery.QueryJobConfig()\n",
    "    query_df = client.query(query, job_config=job_config).result().to_dataframe()\n",
    "      \n",
    "    now = datetime.now()\n",
    "    project_topic_path = 'projects/' + google.auth.default()[1] + '/topics/bigquery-to-pubsub-test0'\n",
    "    temp_resource_name = google.auth.default()[1].replace(\"-\", \"_\") + '_bigquery_to_pubsub_temp'\n",
    "    job_name = 'auto_streaming_with_ai_platform' + now.strftime(\"%d%m%Y%H%M\")\n",
    "    \n",
    "    training_inputs = {\n",
    "    'region': 'us-central1',\n",
    "    'masterConfig': {\n",
    "      \"imageUri\": \"gcr.io/adept-odyssey-314211/bigquery-to-pubsub@sha256:bb6af4c9a0fd07232bd49c01a82380e0bd9744f6d51b6f0028e13a090169d144\"\n",
    "     }, \n",
    "    'args': ['--bigquery-table', 'public-data-finance.crypto_band.oracle_requests', \n",
    "             '--timestamp-field', 'block_timestamp_truncated',\n",
    "             '--start-timestamp', round_up_to_minute(query_df.values[0][0]).strftime('%Y-%m-%dT%H:%M:%S'), \n",
    "             '--end-timestamp', round_up_to_2_minutes(query_df.values[0][0]).strftime('%Y-%m-%dT%H:%M:%S'), \n",
    "             '--batch-size-in-seconds', '3600', \n",
    "             '--replay-rate', '1', \n",
    "             '--pubsub-topic', project_topic_path, \n",
    "             '--temp-bigquery-dataset', temp_resource_name,\n",
    "             '--temp-bucket', temp_resource_name\n",
    "            ]\n",
    "    }\n",
    "\n",
    "    job_spec = {'jobId': job_name, 'trainingInput': training_inputs}\n",
    "    \n",
    "    project_id = 'projects/{}'.format(google.auth.default()[1])\n",
    "    \n",
    "    credentials, _ = google.auth.default()\n",
    "    \n",
    "    cloudml = build('ml', 'v1', credentials=credentials)\n",
    "    \n",
    "    request = cloudml.projects().jobs().create(body=job_spec,\n",
    "              parent=project_id)\n",
    "    \n",
    "    response = request.execute()\n",
    "    logging.info(f'response status: {response}')"
   ]
  },
  {
   "cell_type": "code",
   "execution_count": 2,
   "id": "4d3be2a5",
   "metadata": {},
   "outputs": [
    {
     "name": "stderr",
     "output_type": "stream",
     "text": [
      "/root/apache-beam-2.25.0/lib/python3.7/site-packages/google/cloud/bigquery/client.py:407: UserWarning: Cannot create BigQuery Storage client, the dependency google-cloud-bigquery-storage is not installed.\n",
      "  \"Cannot create BigQuery Storage client, the dependency \"\n"
     ]
    }
   ],
   "source": [
    "hello_pubsub(event=None, context=None)"
   ]
  }
 ],
 "metadata": {
  "kernelspec": {
   "display_name": "Python 3 (ipykernel)",
   "language": "python",
   "name": "python3"
  },
  "language_info": {
   "codemirror_mode": {
    "name": "ipython",
    "version": 3
   },
   "file_extension": ".py",
   "mimetype": "text/x-python",
   "name": "python",
   "nbconvert_exporter": "python",
   "pygments_lexer": "ipython3",
   "version": "3.7.10"
  }
 },
 "nbformat": 4,
 "nbformat_minor": 5
}
